{
 "cells": [
  {
   "cell_type": "markdown",
   "metadata": {},
   "source": [
    "# 1. Librerías necesarias"
   ]
  },
  {
   "cell_type": "code",
   "execution_count": 178,
   "metadata": {},
   "outputs": [],
   "source": [
    "import pandas as pd\n",
    "import matplotlib.pyplot as plt\n",
    "import seaborn as sns\n",
    "import scipy\n",
    "import numpy as np\n",
    "from sklearn.model_selection import train_test_split\n",
    "from sklearn.linear_model import LogisticRegression\n",
    "from sklearn.ensemble import RandomForestClassifier\n",
    "from sklearn.metrics import accuracy_score\n",
    "from sklearn.metrics import confusion_matrix\n",
    "from sklearn.metrics import recall_score\n",
    "from imblearn.over_sampling import SMOTE\n",
    "from sklearn.metrics import precision_score\n",
    "from sklearn.metrics import classification_report\n",
    "from sklearn.tree import DecisionTreeClassifier\n",
    "from sklearn import svm\n",
    "from sklearn import naive_bayes\n",
    "import random\n",
    "from math import sin \n",
    "from time import time\n"
   ]
  },
  {
   "cell_type": "markdown",
   "metadata": {},
   "source": [
    "# 2. Preparación de los datos para el modelado"
   ]
  },
  {
   "cell_type": "markdown",
   "metadata": {},
   "source": [
    "En este paso importaremos el DataSet sintético para comenzar a trabajar con el."
   ]
  },
  {
   "cell_type": "code",
   "execution_count": 179,
   "metadata": {},
   "outputs": [
    {
     "data": {
      "text/html": [
       "<div>\n",
       "<style scoped>\n",
       "    .dataframe tbody tr th:only-of-type {\n",
       "        vertical-align: middle;\n",
       "    }\n",
       "\n",
       "    .dataframe tbody tr th {\n",
       "        vertical-align: top;\n",
       "    }\n",
       "\n",
       "    .dataframe thead th {\n",
       "        text-align: right;\n",
       "    }\n",
       "</style>\n",
       "<table border=\"1\" class=\"dataframe\">\n",
       "  <thead>\n",
       "    <tr style=\"text-align: right;\">\n",
       "      <th></th>\n",
       "      <th>id_sujeto</th>\n",
       "      <th>genero</th>\n",
       "      <th>intervalo_edad</th>\n",
       "      <th>edad</th>\n",
       "      <th>estado_civil</th>\n",
       "      <th>numero_descendientes</th>\n",
       "      <th>actividad_fisica</th>\n",
       "      <th>calidad_sueño</th>\n",
       "      <th>calidad_dieta</th>\n",
       "      <th>fumador</th>\n",
       "      <th>...</th>\n",
       "      <th>idioma_nativo</th>\n",
       "      <th>vegetariano</th>\n",
       "      <th>vegano</th>\n",
       "      <th>lesiones_cabeza</th>\n",
       "      <th>tipo_adiccion</th>\n",
       "      <th>sobrepeso</th>\n",
       "      <th>obesidad</th>\n",
       "      <th>nivel_educativo</th>\n",
       "      <th>empleo_realizado</th>\n",
       "      <th>alzheimer</th>\n",
       "    </tr>\n",
       "  </thead>\n",
       "  <tbody>\n",
       "    <tr>\n",
       "      <th>0</th>\n",
       "      <td>271</td>\n",
       "      <td>Masculino</td>\n",
       "      <td>&gt;85</td>\n",
       "      <td>89</td>\n",
       "      <td>viudo</td>\n",
       "      <td>1</td>\n",
       "      <td>sedentaria</td>\n",
       "      <td>baja</td>\n",
       "      <td>mind0-7</td>\n",
       "      <td>fumador_empedernido</td>\n",
       "      <td>...</td>\n",
       "      <td>Japones</td>\n",
       "      <td>No</td>\n",
       "      <td>No</td>\n",
       "      <td>Si</td>\n",
       "      <td>Ninguna</td>\n",
       "      <td>Si</td>\n",
       "      <td>No</td>\n",
       "      <td>bajo</td>\n",
       "      <td>investigacion</td>\n",
       "      <td>1</td>\n",
       "    </tr>\n",
       "    <tr>\n",
       "      <th>1</th>\n",
       "      <td>45</td>\n",
       "      <td>Femenino</td>\n",
       "      <td>80-84</td>\n",
       "      <td>82</td>\n",
       "      <td>casado</td>\n",
       "      <td>&gt;5</td>\n",
       "      <td>sedentaria</td>\n",
       "      <td>trastornos_sueño</td>\n",
       "      <td>mind0-7</td>\n",
       "      <td>fumador_empedernido</td>\n",
       "      <td>...</td>\n",
       "      <td>Inglés</td>\n",
       "      <td>Si</td>\n",
       "      <td>No</td>\n",
       "      <td>No</td>\n",
       "      <td>Ninguna</td>\n",
       "      <td>Si</td>\n",
       "      <td>No</td>\n",
       "      <td>bajo-medio</td>\n",
       "      <td>manual</td>\n",
       "      <td>1</td>\n",
       "    </tr>\n",
       "    <tr>\n",
       "      <th>2</th>\n",
       "      <td>17</td>\n",
       "      <td>Femenino</td>\n",
       "      <td>&gt;85</td>\n",
       "      <td>92</td>\n",
       "      <td>divorciado</td>\n",
       "      <td>0</td>\n",
       "      <td>sedentaria</td>\n",
       "      <td>trastornos_sueño</td>\n",
       "      <td>mind9-15</td>\n",
       "      <td>no_fumador</td>\n",
       "      <td>...</td>\n",
       "      <td>Inglés</td>\n",
       "      <td>Si</td>\n",
       "      <td>No</td>\n",
       "      <td>Si</td>\n",
       "      <td>Ninguna</td>\n",
       "      <td>Si</td>\n",
       "      <td>No</td>\n",
       "      <td>alto-medio</td>\n",
       "      <td>intelectual</td>\n",
       "      <td>1</td>\n",
       "    </tr>\n",
       "    <tr>\n",
       "      <th>3</th>\n",
       "      <td>366</td>\n",
       "      <td>Masculino</td>\n",
       "      <td>50-64</td>\n",
       "      <td>50</td>\n",
       "      <td>casado</td>\n",
       "      <td>1</td>\n",
       "      <td>moderada</td>\n",
       "      <td>media</td>\n",
       "      <td>mind7-9</td>\n",
       "      <td>fumador_activo</td>\n",
       "      <td>...</td>\n",
       "      <td>Chino</td>\n",
       "      <td>No</td>\n",
       "      <td>No</td>\n",
       "      <td>Si</td>\n",
       "      <td>Ninguna</td>\n",
       "      <td>Si</td>\n",
       "      <td>No</td>\n",
       "      <td>medio</td>\n",
       "      <td>mecanico</td>\n",
       "      <td>1</td>\n",
       "    </tr>\n",
       "    <tr>\n",
       "      <th>4</th>\n",
       "      <td>313</td>\n",
       "      <td>Femenino</td>\n",
       "      <td>&gt;85</td>\n",
       "      <td>99</td>\n",
       "      <td>soltero</td>\n",
       "      <td>&gt;5</td>\n",
       "      <td>moderada</td>\n",
       "      <td>media</td>\n",
       "      <td>mind7-9</td>\n",
       "      <td>fumador_empedernido</td>\n",
       "      <td>...</td>\n",
       "      <td>Japones</td>\n",
       "      <td>Si</td>\n",
       "      <td>No</td>\n",
       "      <td>Si</td>\n",
       "      <td>Ninguna</td>\n",
       "      <td>No</td>\n",
       "      <td>Si</td>\n",
       "      <td>bajo-medio</td>\n",
       "      <td>manual</td>\n",
       "      <td>1</td>\n",
       "    </tr>\n",
       "  </tbody>\n",
       "</table>\n",
       "<p>5 rows × 44 columns</p>\n",
       "</div>"
      ],
      "text/plain": [
       "   id_sujeto     genero intervalo_edad  edad estado_civil  \\\n",
       "0        271  Masculino            >85    89        viudo   \n",
       "1         45   Femenino          80-84    82       casado   \n",
       "2         17   Femenino            >85    92   divorciado   \n",
       "3        366  Masculino          50-64    50       casado   \n",
       "4        313   Femenino            >85    99      soltero   \n",
       "\n",
       "  numero_descendientes actividad_fisica     calidad_sueño calidad_dieta  \\\n",
       "0                    1       sedentaria              baja       mind0-7   \n",
       "1                   >5       sedentaria  trastornos_sueño       mind0-7   \n",
       "2                    0       sedentaria  trastornos_sueño      mind9-15   \n",
       "3                    1         moderada             media       mind7-9   \n",
       "4                   >5         moderada             media       mind7-9   \n",
       "\n",
       "               fumador  ... idioma_nativo vegetariano vegano lesiones_cabeza  \\\n",
       "0  fumador_empedernido  ...       Japones          No     No              Si   \n",
       "1  fumador_empedernido  ...        Inglés          Si     No              No   \n",
       "2           no_fumador  ...        Inglés          Si     No              Si   \n",
       "3       fumador_activo  ...         Chino          No     No              Si   \n",
       "4  fumador_empedernido  ...       Japones          Si     No              Si   \n",
       "\n",
       "  tipo_adiccion sobrepeso obesidad nivel_educativo empleo_realizado alzheimer  \n",
       "0       Ninguna        Si       No            bajo    investigacion         1  \n",
       "1       Ninguna        Si       No      bajo-medio           manual         1  \n",
       "2       Ninguna        Si       No      alto-medio      intelectual         1  \n",
       "3       Ninguna        Si       No           medio         mecanico         1  \n",
       "4       Ninguna        No       Si      bajo-medio           manual         1  \n",
       "\n",
       "[5 rows x 44 columns]"
      ]
     },
     "execution_count": 179,
     "metadata": {},
     "output_type": "execute_result"
    }
   ],
   "source": [
    "df = pd.read_csv(\"../TFM_job/dataset_alzheimer_danielRozp.csv\", \",\")\n",
    "#df = df.drop(columns=\"Unnamed: 0\")\n",
    "df[\"alzheimer\"] = df[\"alzheimer\"].apply(lambda x : 1 if x == \"Si\" else 0)\n",
    "df.head()"
   ]
  },
  {
   "cell_type": "markdown",
   "metadata": {},
   "source": [
    "Una vez importados los datos crearemos variables dummies debido a la alta carga de variables categóricas que tiene nuestro DataSet. Dividiendo a continuación los datos en variables predictoras X y variable target y."
   ]
  },
  {
   "cell_type": "code",
   "execution_count": 180,
   "metadata": {},
   "outputs": [],
   "source": [
    "df_num = df[[\"id_sujeto\",\"alzheimer\",\"edad\", \"edad_jubilacion\"]]\n",
    "df_cat = df.drop(columns=df_num.columns)\n",
    "df_test = df_cat\n",
    "df_dummies = pd.get_dummies(df_test, columns=df_test.columns)\n",
    "df_result = pd.concat([df_dummies, df_num], axis=1, sort=False).drop(columns=\"id_sujeto\")\n",
    "X = df_result.drop(columns=\"alzheimer\")\n",
    "y = df_result[\"alzheimer\"]"
   ]
  },
  {
   "cell_type": "markdown",
   "metadata": {},
   "source": [
    "Finalmente dividiremos las variables en conjunto de entrenamiento y conjunto test para comprobar la veracidad de nuestro modelo."
   ]
  },
  {
   "cell_type": "code",
   "execution_count": 181,
   "metadata": {},
   "outputs": [],
   "source": [
    "X_train, X_test, y_train, y_test = train_test_split(X, y, test_size=0.25, random_state=42)"
   ]
  },
  {
   "cell_type": "markdown",
   "metadata": {},
   "source": [
    "# 3. Modelado"
   ]
  },
  {
   "cell_type": "markdown",
   "metadata": {},
   "source": [
    "En este punto se buscará el modelo con hiperparametros óptimos que mejores resultados nos devuelva."
   ]
  },
  {
   "cell_type": "markdown",
   "metadata": {},
   "source": [
    "### 3.1. Random Forest Classifier"
   ]
  },
  {
   "cell_type": "code",
   "execution_count": 182,
   "metadata": {},
   "outputs": [
    {
     "name": "stdout",
     "output_type": "stream",
     "text": [
      "Precisión: 0.99588\n",
      "Exactitud: 0.6785714285714286\n",
      "Recall: 0.42857142857142855\n",
      "Matriz de confusión \n",
      " [[24840    27]\n",
      " [   76    57]]\n",
      "              precision    recall  f1-score   support\n",
      "\n",
      "           0       1.00      1.00      1.00     24867\n",
      "           1       0.68      0.43      0.53       133\n",
      "\n",
      "    accuracy                           1.00     25000\n",
      "   macro avg       0.84      0.71      0.76     25000\n",
      "weighted avg       1.00      1.00      1.00     25000\n",
      "\n"
     ]
    }
   ],
   "source": [
    "clf = RandomForestClassifier(random_state=0, n_estimators=3, criterion = \"entropy\", max_depth = 40)\n",
    "\n",
    "clf.fit(X_train, y_train)\n",
    "y_pred = clf.predict(X_test)\n",
    "\n",
    "print('Precisión:', accuracy_score(y_test, y_pred))\n",
    "print('Exactitud:', precision_score(y_test, y_pred))\n",
    "print('Recall:', recall_score(y_test, y_pred))\n",
    "print(\"Matriz de confusión\" ,'\\n',  confusion_matrix(y_test, y_pred))\n",
    "report = classification_report(y_test, y_pred)\n",
    "print(report)"
   ]
  },
  {
   "cell_type": "markdown",
   "metadata": {},
   "source": [
    "### 3.2. Logistic Regression"
   ]
  },
  {
   "cell_type": "code",
   "execution_count": 183,
   "metadata": {},
   "outputs": [
    {
     "name": "stdout",
     "output_type": "stream",
     "text": [
      "Precisión: 0.99684\n",
      "Exactitud: 0.813953488372093\n",
      "Recall: 0.5263157894736842\n",
      "Matriz de confusión \n",
      " [[24851    16]\n",
      " [   63    70]]\n",
      "              precision    recall  f1-score   support\n",
      "\n",
      "           0       1.00      1.00      1.00     24867\n",
      "           1       0.81      0.53      0.64       133\n",
      "\n",
      "    accuracy                           1.00     25000\n",
      "   macro avg       0.91      0.76      0.82     25000\n",
      "weighted avg       1.00      1.00      1.00     25000\n",
      "\n"
     ]
    },
    {
     "name": "stderr",
     "output_type": "stream",
     "text": [
      "/home/daniel/anaconda3/lib/python3.7/site-packages/sklearn/linear_model/_logistic.py:764: ConvergenceWarning:\n",
      "\n",
      "lbfgs failed to converge (status=1):\n",
      "STOP: TOTAL NO. of ITERATIONS REACHED LIMIT.\n",
      "\n",
      "Increase the number of iterations (max_iter) or scale the data as shown in:\n",
      "    https://scikit-learn.org/stable/modules/preprocessing.html\n",
      "Please also refer to the documentation for alternative solver options:\n",
      "    https://scikit-learn.org/stable/modules/linear_model.html#logistic-regression\n",
      "\n"
     ]
    }
   ],
   "source": [
    "lr = LogisticRegression(random_state=0, penalty = \"none\", fit_intercept = False)\n",
    "\n",
    "lr.fit(X_train, y_train)\n",
    "y_pred = lr.predict(X_test)\n",
    "\n",
    "print('Precisión:', accuracy_score(y_test, y_pred))\n",
    "print('Exactitud:', precision_score(y_test, y_pred))\n",
    "print('Recall:', recall_score(y_test, y_pred))\n",
    "print(\"Matriz de confusión\" ,'\\n',  confusion_matrix(y_test, y_pred))\n",
    "report = classification_report(y_test, y_pred)\n",
    "print(report)"
   ]
  },
  {
   "cell_type": "markdown",
   "metadata": {},
   "source": [
    "### 3.3. Decision Tree Classifier"
   ]
  },
  {
   "cell_type": "code",
   "execution_count": 184,
   "metadata": {},
   "outputs": [
    {
     "name": "stdout",
     "output_type": "stream",
     "text": [
      "Precisión: 0.997\n",
      "Exactitud: 0.7636363636363637\n",
      "Recall: 0.631578947368421\n",
      "Matriz de confusión \n",
      " [[24841    26]\n",
      " [   49    84]]\n",
      "              precision    recall  f1-score   support\n",
      "\n",
      "           0       1.00      1.00      1.00     24867\n",
      "           1       0.76      0.63      0.69       133\n",
      "\n",
      "    accuracy                           1.00     25000\n",
      "   macro avg       0.88      0.82      0.84     25000\n",
      "weighted avg       1.00      1.00      1.00     25000\n",
      "\n"
     ]
    }
   ],
   "source": [
    "dt_classifier = DecisionTreeClassifier(random_state = 0, criterion = \"gini\", splitter = \"best\", max_depth = 4)\n",
    "dt_classifier.fit(X_train, y_train)\n",
    "y_pred = dt_classifier.predict(X_test)\n",
    "\n",
    "print('Precisión:', accuracy_score(y_test, y_pred))\n",
    "print('Exactitud:', precision_score(y_test, y_pred))\n",
    "print('Recall:', recall_score(y_test, y_pred))\n",
    "print(\"Matriz de confusión\" ,'\\n',  confusion_matrix(y_test, y_pred))\n",
    "report = classification_report(y_test, y_pred)\n",
    "print(report)"
   ]
  },
  {
   "cell_type": "markdown",
   "metadata": {},
   "source": [
    "### 3.4. Support Vector Machine"
   ]
  },
  {
   "cell_type": "code",
   "execution_count": 8,
   "metadata": {},
   "outputs": [
    {
     "name": "stdout",
     "output_type": "stream",
     "text": [
      "Precisión: 0.99708\n",
      "Exactitud: 0.8061224489795918\n",
      "Recall: 0.5939849624060151\n",
      "Matriz de confusión \n",
      " [[24848    19]\n",
      " [   54    79]]\n",
      "              precision    recall  f1-score   support\n",
      "\n",
      "           0       1.00      1.00      1.00     24867\n",
      "           1       0.81      0.59      0.68       133\n",
      "\n",
      "    accuracy                           1.00     25000\n",
      "   macro avg       0.90      0.80      0.84     25000\n",
      "weighted avg       1.00      1.00      1.00     25000\n",
      "\n"
     ]
    }
   ],
   "source": [
    "svm_classifier = svm.SVC(random_state = 0, kernel='linear', C = 4, gamma = \"auto\")\n",
    "svm_classifier.fit(X_train, y_train)\n",
    "y_pred = svm_classifier.predict(X_test)\n",
    "\n",
    "print('Precisión:', accuracy_score(y_test, y_pred))\n",
    "print('Exactitud:', precision_score(y_test, y_pred))\n",
    "print('Recall:', recall_score(y_test, y_pred))\n",
    "print(\"Matriz de confusión\" ,'\\n',  confusion_matrix(y_test, y_pred))\n",
    "report = classification_report(y_test, y_pred)\n",
    "print(report)"
   ]
  },
  {
   "cell_type": "markdown",
   "metadata": {},
   "source": [
    "### 3.5. Naive Bayes Classifier"
   ]
  },
  {
   "cell_type": "code",
   "execution_count": 9,
   "metadata": {},
   "outputs": [
    {
     "name": "stdout",
     "output_type": "stream",
     "text": [
      "Precisión: 0.95736\n",
      "Exactitud: 0.09680207433016422\n",
      "Recall: 0.8421052631578947\n",
      "Matriz de confusión \n",
      " [[23822  1045]\n",
      " [   21   112]]\n",
      "              precision    recall  f1-score   support\n",
      "\n",
      "           0       1.00      0.96      0.98     24867\n",
      "           1       0.10      0.84      0.17       133\n",
      "\n",
      "    accuracy                           0.96     25000\n",
      "   macro avg       0.55      0.90      0.58     25000\n",
      "weighted avg       0.99      0.96      0.97     25000\n",
      "\n"
     ]
    }
   ],
   "source": [
    "nb_classifier = naive_bayes.GaussianNB()\n",
    "nb_classifier.fit(X_train, y_train)\n",
    "y_pred = nb_classifier.predict(X_test)\n",
    "\n",
    "print('Precisión:', accuracy_score(y_test, y_pred))\n",
    "print('Exactitud:', precision_score(y_test, y_pred))\n",
    "print('Recall:', recall_score(y_test, y_pred))\n",
    "print(\"Matriz de confusión\" ,'\\n',  confusion_matrix(y_test, y_pred))\n",
    "report = classification_report(y_test, y_pred)\n",
    "print(report)"
   ]
  },
  {
   "cell_type": "markdown",
   "metadata": {},
   "source": [
    "### 3.6. Selección del modelo"
   ]
  },
  {
   "cell_type": "markdown",
   "metadata": {},
   "source": [
    "Como ambos algoritmos han funcionado aceptablemente, se seleccionará el algoritmo a utilizar en base a los tiempos de ejecución."
   ]
  },
  {
   "cell_type": "markdown",
   "metadata": {},
   "source": [
    "#### 3.6.1. Tiempos de carga"
   ]
  },
  {
   "cell_type": "code",
   "execution_count": 207,
   "metadata": {},
   "outputs": [
    {
     "name": "stdout",
     "output_type": "stream",
     "text": [
      "El tiempo de ejecucion de Decission Tree Classifier fue: 1.1556756496429443\n",
      "El tiempo de ejecucion de Support Vector Machine fue: 588.768637418747\n"
     ]
    }
   ],
   "source": [
    "tiempo_inicial_DT = time() \n",
    " \n",
    "dt_classifier = DecisionTreeClassifier(random_state = 0, criterion = \"gini\", splitter = \"best\", max_depth = 4)\n",
    "dt_classifier.fit(X_train, y_train)\n",
    "y_pred = dt_classifier.predict(X_test)\n",
    " \n",
    "tiempo_final_DT = time() \n",
    " \n",
    "tiempo_ejecucion_DT = tiempo_final_DT - tiempo_inicial_DT\n",
    " \n",
    "tiempo_inicial_SVM = time() \n",
    " \n",
    "svm_classifier = svm.SVC(random_state = 0, kernel='linear', C = 4, gamma = \"auto\")\n",
    "svm_classifier.fit(X_train, y_train)\n",
    "y_pred = svm_classifier.predict(X_test)\n",
    "\n",
    "tiempo_final_SVM = time() \n",
    " \n",
    "tiempo_ejecucion_SVM = tiempo_final_SVM - tiempo_inicial_SVM"
   ]
  },
  {
   "cell_type": "code",
   "execution_count": 211,
   "metadata": {},
   "outputs": [
    {
     "name": "stdout",
     "output_type": "stream",
     "text": [
      "El tiempo de ejecucion de Decission Tree Classifier fue: 1.16  segundos\n",
      "El tiempo de ejecucion de Support Vector Machine fue: 588.77  segundos\n"
     ]
    }
   ],
   "source": [
    "print('El tiempo de ejecucion de Decission Tree Classifier fue:',round(tiempo_ejecucion_DT,2),\" segundos\")\n",
    "print('El tiempo de ejecucion de Support Vector Machine fue:',round(tiempo_ejecucion_SVM,2),\" segundos\")"
   ]
  },
  {
   "cell_type": "markdown",
   "metadata": {},
   "source": [
    "Como se puede observar el tiempo de carga del algoritmo Decission Tree Classifier es notablemente más bajo por lo que será el algoritmo seleccionado."
   ]
  },
  {
   "cell_type": "markdown",
   "metadata": {},
   "source": [
    "# 4. Balanceo de Datos - SMOTE"
   ]
  },
  {
   "cell_type": "markdown",
   "metadata": {},
   "source": [
    "Una vez que hemos seleccionado el modelo que vamos a utilizar (Decision Tree Classifier) vamos a proceder al balanceo de datos debido a que claramente los datos no estan balanceados."
   ]
  },
  {
   "cell_type": "code",
   "execution_count": 185,
   "metadata": {},
   "outputs": [
    {
     "data": {
      "text/plain": [
       "0    99456\n",
       "1      544\n",
       "Name: alzheimer, dtype: int64"
      ]
     },
     "execution_count": 185,
     "metadata": {},
     "output_type": "execute_result"
    }
   ],
   "source": [
    "df_result[\"alzheimer\"].value_counts()"
   ]
  },
  {
   "cell_type": "code",
   "execution_count": 186,
   "metadata": {},
   "outputs": [
    {
     "name": "stdout",
     "output_type": "stream",
     "text": [
      "100000  filas\n"
     ]
    }
   ],
   "source": [
    "print(df_result.shape[0], \" filas\")"
   ]
  },
  {
   "cell_type": "markdown",
   "metadata": {},
   "source": [
    "Vemos como actualmente solo el 0,54% de los registros son usuarios con Alzheimer. Actualmente contamos con 100.000 registros."
   ]
  },
  {
   "cell_type": "markdown",
   "metadata": {},
   "source": [
    "Por ello se comienza a aplicar la técnica de SMOTE"
   ]
  },
  {
   "cell_type": "code",
   "execution_count": 187,
   "metadata": {},
   "outputs": [],
   "source": [
    "method = SMOTE()\n",
    "X_resampled, y_resampled = method.fit_sample(X, y)\n",
    "X_train, X_test, y_train, y_test = train_test_split(X_resampled, y_resampled, test_size=0.25, random_state=42)"
   ]
  },
  {
   "cell_type": "code",
   "execution_count": 188,
   "metadata": {},
   "outputs": [
    {
     "name": "stdout",
     "output_type": "stream",
     "text": [
      "Precisión: 0.9713038931788932\n",
      "Exactitud: 0.9938968313686146\n",
      "Recall: 0.9488765614399169\n",
      "Matriz de confusión \n",
      " [[24525   146]\n",
      " [ 1281 23776]]\n",
      "              precision    recall  f1-score   support\n",
      "\n",
      "           0       0.95      0.99      0.97     24671\n",
      "           1       0.99      0.95      0.97     25057\n",
      "\n",
      "    accuracy                           0.97     49728\n",
      "   macro avg       0.97      0.97      0.97     49728\n",
      "weighted avg       0.97      0.97      0.97     49728\n",
      "\n"
     ]
    }
   ],
   "source": [
    "from sklearn.tree import DecisionTreeClassifier\n",
    "\n",
    "dt_classifier = DecisionTreeClassifier(random_state = 0, criterion = \"gini\", splitter = \"best\", max_depth = 4)\n",
    "dt_classifier.fit(X_train, y_train)\n",
    "y_pred = dt_classifier.predict(X_test)\n",
    "\n",
    "print('Precisión:', accuracy_score(y_test, y_pred))\n",
    "print('Exactitud:', precision_score(y_test, y_pred))\n",
    "print('Recall:', recall_score(y_test, y_pred))\n",
    "print(\"Matriz de confusión\" ,'\\n',  confusion_matrix(y_test, y_pred))\n",
    "report = classification_report(y_test, y_pred)\n",
    "print(report)"
   ]
  },
  {
   "cell_type": "markdown",
   "metadata": {},
   "source": [
    "Se observa como la aplicación de SMOTE ha mejorado notablemente las métricas y la capacidad predictiva."
   ]
  },
  {
   "cell_type": "code",
   "execution_count": 190,
   "metadata": {},
   "outputs": [
    {
     "data": {
      "text/plain": [
       "1    99456\n",
       "0    99456\n",
       "Name: alzheimer, dtype: int64"
      ]
     },
     "execution_count": 190,
     "metadata": {},
     "output_type": "execute_result"
    }
   ],
   "source": [
    "y_resampled.value_counts()"
   ]
  },
  {
   "cell_type": "code",
   "execution_count": 192,
   "metadata": {},
   "outputs": [
    {
     "name": "stdout",
     "output_type": "stream",
     "text": [
      "198912  filas\n"
     ]
    }
   ],
   "source": [
    "print(X_resampled.shape[0], \" filas\")"
   ]
  },
  {
   "cell_type": "markdown",
   "metadata": {},
   "source": [
    "# 5. Variables más importantes del modelo"
   ]
  },
  {
   "cell_type": "markdown",
   "metadata": {},
   "source": [
    "A continuación vamos a aplicar varias funciones para comprobar la importancia de las variables en el modelo."
   ]
  },
  {
   "cell_type": "markdown",
   "metadata": {},
   "source": [
    "### 5.1 Aplicación de feature_selection al modelo Decission Tree Classifier"
   ]
  },
  {
   "cell_type": "code",
   "execution_count": 212,
   "metadata": {},
   "outputs": [
    {
     "data": {
      "application/vnd.plotly.v1+json": {
       "config": {
        "plotlyServerURL": "https://plot.ly"
       },
       "data": [
        {
         "alignmentgroup": "True",
         "hovertemplate": "cols=%{x}<br>imps=%{y}<extra></extra>",
         "legendgroup": "",
         "marker": {
          "color": "#636efa"
         },
         "name": "",
         "offsetgroup": "",
         "orientation": "v",
         "showlegend": false,
         "textposition": "auto",
         "type": "bar",
         "x": [
          "genetica_Si",
          "socialmente_activo_Si",
          "vegetariano_Si",
          "socialmente_activo_No",
          "genetica_No",
          "colesterol_Adecuado",
          "soledad_No",
          "edad",
          "fumador_no_fumador",
          "vegetariano_No",
          "tipo_adiccion_Marihuana",
          "vegano_Si",
          "tipo_adiccion_Ninguna",
          "fumador_fumador_activo",
          "soledad_Si",
          "mano_dominante_zurdo",
          "mano_dominante_ambidiestro",
          "colesterol_No_Adecuado",
          "actividad_creativa_ninguna",
          "actividad_creativa_pintura",
          "actividad_creativa_otras",
          "actividad_fisica_moderada",
          "actividad_creativa_musica",
          "actividad_creativa_escultura",
          "actividad_creativa_escritura"
         ],
         "xaxis": "x",
         "y": [
          0.9101649569115304,
          0.056671503975841066,
          0.012803160840069055,
          0.00621948423155485,
          0.005477025604718456,
          0.0037445928439727772,
          0.002371610672987023,
          0.0008916167586070961,
          0.0006518010879845533,
          0.0004761133196183242,
          0.00018360669077092107,
          0.00015860771900237712,
          0.00014283551572164173,
          4.308382762143682e-05,
          0,
          0,
          0,
          0,
          0,
          0,
          0,
          0,
          0,
          0,
          0
         ],
         "yaxis": "y"
        }
       ],
       "layout": {
        "barmode": "relative",
        "legend": {
         "tracegroupgap": 0
        },
        "margin": {
         "t": 60
        },
        "template": {
         "data": {
          "bar": [
           {
            "error_x": {
             "color": "#2a3f5f"
            },
            "error_y": {
             "color": "#2a3f5f"
            },
            "marker": {
             "line": {
              "color": "#E5ECF6",
              "width": 0.5
             }
            },
            "type": "bar"
           }
          ],
          "barpolar": [
           {
            "marker": {
             "line": {
              "color": "#E5ECF6",
              "width": 0.5
             }
            },
            "type": "barpolar"
           }
          ],
          "carpet": [
           {
            "aaxis": {
             "endlinecolor": "#2a3f5f",
             "gridcolor": "white",
             "linecolor": "white",
             "minorgridcolor": "white",
             "startlinecolor": "#2a3f5f"
            },
            "baxis": {
             "endlinecolor": "#2a3f5f",
             "gridcolor": "white",
             "linecolor": "white",
             "minorgridcolor": "white",
             "startlinecolor": "#2a3f5f"
            },
            "type": "carpet"
           }
          ],
          "choropleth": [
           {
            "colorbar": {
             "outlinewidth": 0,
             "ticks": ""
            },
            "type": "choropleth"
           }
          ],
          "contour": [
           {
            "colorbar": {
             "outlinewidth": 0,
             "ticks": ""
            },
            "colorscale": [
             [
              0,
              "#0d0887"
             ],
             [
              0.1111111111111111,
              "#46039f"
             ],
             [
              0.2222222222222222,
              "#7201a8"
             ],
             [
              0.3333333333333333,
              "#9c179e"
             ],
             [
              0.4444444444444444,
              "#bd3786"
             ],
             [
              0.5555555555555556,
              "#d8576b"
             ],
             [
              0.6666666666666666,
              "#ed7953"
             ],
             [
              0.7777777777777778,
              "#fb9f3a"
             ],
             [
              0.8888888888888888,
              "#fdca26"
             ],
             [
              1,
              "#f0f921"
             ]
            ],
            "type": "contour"
           }
          ],
          "contourcarpet": [
           {
            "colorbar": {
             "outlinewidth": 0,
             "ticks": ""
            },
            "type": "contourcarpet"
           }
          ],
          "heatmap": [
           {
            "colorbar": {
             "outlinewidth": 0,
             "ticks": ""
            },
            "colorscale": [
             [
              0,
              "#0d0887"
             ],
             [
              0.1111111111111111,
              "#46039f"
             ],
             [
              0.2222222222222222,
              "#7201a8"
             ],
             [
              0.3333333333333333,
              "#9c179e"
             ],
             [
              0.4444444444444444,
              "#bd3786"
             ],
             [
              0.5555555555555556,
              "#d8576b"
             ],
             [
              0.6666666666666666,
              "#ed7953"
             ],
             [
              0.7777777777777778,
              "#fb9f3a"
             ],
             [
              0.8888888888888888,
              "#fdca26"
             ],
             [
              1,
              "#f0f921"
             ]
            ],
            "type": "heatmap"
           }
          ],
          "heatmapgl": [
           {
            "colorbar": {
             "outlinewidth": 0,
             "ticks": ""
            },
            "colorscale": [
             [
              0,
              "#0d0887"
             ],
             [
              0.1111111111111111,
              "#46039f"
             ],
             [
              0.2222222222222222,
              "#7201a8"
             ],
             [
              0.3333333333333333,
              "#9c179e"
             ],
             [
              0.4444444444444444,
              "#bd3786"
             ],
             [
              0.5555555555555556,
              "#d8576b"
             ],
             [
              0.6666666666666666,
              "#ed7953"
             ],
             [
              0.7777777777777778,
              "#fb9f3a"
             ],
             [
              0.8888888888888888,
              "#fdca26"
             ],
             [
              1,
              "#f0f921"
             ]
            ],
            "type": "heatmapgl"
           }
          ],
          "histogram": [
           {
            "marker": {
             "colorbar": {
              "outlinewidth": 0,
              "ticks": ""
             }
            },
            "type": "histogram"
           }
          ],
          "histogram2d": [
           {
            "colorbar": {
             "outlinewidth": 0,
             "ticks": ""
            },
            "colorscale": [
             [
              0,
              "#0d0887"
             ],
             [
              0.1111111111111111,
              "#46039f"
             ],
             [
              0.2222222222222222,
              "#7201a8"
             ],
             [
              0.3333333333333333,
              "#9c179e"
             ],
             [
              0.4444444444444444,
              "#bd3786"
             ],
             [
              0.5555555555555556,
              "#d8576b"
             ],
             [
              0.6666666666666666,
              "#ed7953"
             ],
             [
              0.7777777777777778,
              "#fb9f3a"
             ],
             [
              0.8888888888888888,
              "#fdca26"
             ],
             [
              1,
              "#f0f921"
             ]
            ],
            "type": "histogram2d"
           }
          ],
          "histogram2dcontour": [
           {
            "colorbar": {
             "outlinewidth": 0,
             "ticks": ""
            },
            "colorscale": [
             [
              0,
              "#0d0887"
             ],
             [
              0.1111111111111111,
              "#46039f"
             ],
             [
              0.2222222222222222,
              "#7201a8"
             ],
             [
              0.3333333333333333,
              "#9c179e"
             ],
             [
              0.4444444444444444,
              "#bd3786"
             ],
             [
              0.5555555555555556,
              "#d8576b"
             ],
             [
              0.6666666666666666,
              "#ed7953"
             ],
             [
              0.7777777777777778,
              "#fb9f3a"
             ],
             [
              0.8888888888888888,
              "#fdca26"
             ],
             [
              1,
              "#f0f921"
             ]
            ],
            "type": "histogram2dcontour"
           }
          ],
          "mesh3d": [
           {
            "colorbar": {
             "outlinewidth": 0,
             "ticks": ""
            },
            "type": "mesh3d"
           }
          ],
          "parcoords": [
           {
            "line": {
             "colorbar": {
              "outlinewidth": 0,
              "ticks": ""
             }
            },
            "type": "parcoords"
           }
          ],
          "pie": [
           {
            "automargin": true,
            "type": "pie"
           }
          ],
          "scatter": [
           {
            "marker": {
             "colorbar": {
              "outlinewidth": 0,
              "ticks": ""
             }
            },
            "type": "scatter"
           }
          ],
          "scatter3d": [
           {
            "line": {
             "colorbar": {
              "outlinewidth": 0,
              "ticks": ""
             }
            },
            "marker": {
             "colorbar": {
              "outlinewidth": 0,
              "ticks": ""
             }
            },
            "type": "scatter3d"
           }
          ],
          "scattercarpet": [
           {
            "marker": {
             "colorbar": {
              "outlinewidth": 0,
              "ticks": ""
             }
            },
            "type": "scattercarpet"
           }
          ],
          "scattergeo": [
           {
            "marker": {
             "colorbar": {
              "outlinewidth": 0,
              "ticks": ""
             }
            },
            "type": "scattergeo"
           }
          ],
          "scattergl": [
           {
            "marker": {
             "colorbar": {
              "outlinewidth": 0,
              "ticks": ""
             }
            },
            "type": "scattergl"
           }
          ],
          "scattermapbox": [
           {
            "marker": {
             "colorbar": {
              "outlinewidth": 0,
              "ticks": ""
             }
            },
            "type": "scattermapbox"
           }
          ],
          "scatterpolar": [
           {
            "marker": {
             "colorbar": {
              "outlinewidth": 0,
              "ticks": ""
             }
            },
            "type": "scatterpolar"
           }
          ],
          "scatterpolargl": [
           {
            "marker": {
             "colorbar": {
              "outlinewidth": 0,
              "ticks": ""
             }
            },
            "type": "scatterpolargl"
           }
          ],
          "scatterternary": [
           {
            "marker": {
             "colorbar": {
              "outlinewidth": 0,
              "ticks": ""
             }
            },
            "type": "scatterternary"
           }
          ],
          "surface": [
           {
            "colorbar": {
             "outlinewidth": 0,
             "ticks": ""
            },
            "colorscale": [
             [
              0,
              "#0d0887"
             ],
             [
              0.1111111111111111,
              "#46039f"
             ],
             [
              0.2222222222222222,
              "#7201a8"
             ],
             [
              0.3333333333333333,
              "#9c179e"
             ],
             [
              0.4444444444444444,
              "#bd3786"
             ],
             [
              0.5555555555555556,
              "#d8576b"
             ],
             [
              0.6666666666666666,
              "#ed7953"
             ],
             [
              0.7777777777777778,
              "#fb9f3a"
             ],
             [
              0.8888888888888888,
              "#fdca26"
             ],
             [
              1,
              "#f0f921"
             ]
            ],
            "type": "surface"
           }
          ],
          "table": [
           {
            "cells": {
             "fill": {
              "color": "#EBF0F8"
             },
             "line": {
              "color": "white"
             }
            },
            "header": {
             "fill": {
              "color": "#C8D4E3"
             },
             "line": {
              "color": "white"
             }
            },
            "type": "table"
           }
          ]
         },
         "layout": {
          "annotationdefaults": {
           "arrowcolor": "#2a3f5f",
           "arrowhead": 0,
           "arrowwidth": 1
          },
          "coloraxis": {
           "colorbar": {
            "outlinewidth": 0,
            "ticks": ""
           }
          },
          "colorscale": {
           "diverging": [
            [
             0,
             "#8e0152"
            ],
            [
             0.1,
             "#c51b7d"
            ],
            [
             0.2,
             "#de77ae"
            ],
            [
             0.3,
             "#f1b6da"
            ],
            [
             0.4,
             "#fde0ef"
            ],
            [
             0.5,
             "#f7f7f7"
            ],
            [
             0.6,
             "#e6f5d0"
            ],
            [
             0.7,
             "#b8e186"
            ],
            [
             0.8,
             "#7fbc41"
            ],
            [
             0.9,
             "#4d9221"
            ],
            [
             1,
             "#276419"
            ]
           ],
           "sequential": [
            [
             0,
             "#0d0887"
            ],
            [
             0.1111111111111111,
             "#46039f"
            ],
            [
             0.2222222222222222,
             "#7201a8"
            ],
            [
             0.3333333333333333,
             "#9c179e"
            ],
            [
             0.4444444444444444,
             "#bd3786"
            ],
            [
             0.5555555555555556,
             "#d8576b"
            ],
            [
             0.6666666666666666,
             "#ed7953"
            ],
            [
             0.7777777777777778,
             "#fb9f3a"
            ],
            [
             0.8888888888888888,
             "#fdca26"
            ],
            [
             1,
             "#f0f921"
            ]
           ],
           "sequentialminus": [
            [
             0,
             "#0d0887"
            ],
            [
             0.1111111111111111,
             "#46039f"
            ],
            [
             0.2222222222222222,
             "#7201a8"
            ],
            [
             0.3333333333333333,
             "#9c179e"
            ],
            [
             0.4444444444444444,
             "#bd3786"
            ],
            [
             0.5555555555555556,
             "#d8576b"
            ],
            [
             0.6666666666666666,
             "#ed7953"
            ],
            [
             0.7777777777777778,
             "#fb9f3a"
            ],
            [
             0.8888888888888888,
             "#fdca26"
            ],
            [
             1,
             "#f0f921"
            ]
           ]
          },
          "colorway": [
           "#636efa",
           "#EF553B",
           "#00cc96",
           "#ab63fa",
           "#FFA15A",
           "#19d3f3",
           "#FF6692",
           "#B6E880",
           "#FF97FF",
           "#FECB52"
          ],
          "font": {
           "color": "#2a3f5f"
          },
          "geo": {
           "bgcolor": "white",
           "lakecolor": "white",
           "landcolor": "#E5ECF6",
           "showlakes": true,
           "showland": true,
           "subunitcolor": "white"
          },
          "hoverlabel": {
           "align": "left"
          },
          "hovermode": "closest",
          "mapbox": {
           "style": "light"
          },
          "paper_bgcolor": "white",
          "plot_bgcolor": "#E5ECF6",
          "polar": {
           "angularaxis": {
            "gridcolor": "white",
            "linecolor": "white",
            "ticks": ""
           },
           "bgcolor": "#E5ECF6",
           "radialaxis": {
            "gridcolor": "white",
            "linecolor": "white",
            "ticks": ""
           }
          },
          "scene": {
           "xaxis": {
            "backgroundcolor": "#E5ECF6",
            "gridcolor": "white",
            "gridwidth": 2,
            "linecolor": "white",
            "showbackground": true,
            "ticks": "",
            "zerolinecolor": "white"
           },
           "yaxis": {
            "backgroundcolor": "#E5ECF6",
            "gridcolor": "white",
            "gridwidth": 2,
            "linecolor": "white",
            "showbackground": true,
            "ticks": "",
            "zerolinecolor": "white"
           },
           "zaxis": {
            "backgroundcolor": "#E5ECF6",
            "gridcolor": "white",
            "gridwidth": 2,
            "linecolor": "white",
            "showbackground": true,
            "ticks": "",
            "zerolinecolor": "white"
           }
          },
          "shapedefaults": {
           "line": {
            "color": "#2a3f5f"
           }
          },
          "ternary": {
           "aaxis": {
            "gridcolor": "white",
            "linecolor": "white",
            "ticks": ""
           },
           "baxis": {
            "gridcolor": "white",
            "linecolor": "white",
            "ticks": ""
           },
           "bgcolor": "#E5ECF6",
           "caxis": {
            "gridcolor": "white",
            "linecolor": "white",
            "ticks": ""
           }
          },
          "title": {
           "x": 0.05
          },
          "xaxis": {
           "automargin": true,
           "gridcolor": "white",
           "linecolor": "white",
           "ticks": "",
           "title": {
            "standoff": 15
           },
           "zerolinecolor": "white",
           "zerolinewidth": 2
          },
          "yaxis": {
           "automargin": true,
           "gridcolor": "white",
           "linecolor": "white",
           "ticks": "",
           "title": {
            "standoff": 15
           },
           "zerolinecolor": "white",
           "zerolinewidth": 2
          }
         }
        },
        "xaxis": {
         "anchor": "y",
         "domain": [
          0,
          1
         ],
         "title": {
          "text": "cols"
         }
        },
        "yaxis": {
         "anchor": "x",
         "domain": [
          0,
          1
         ],
         "title": {
          "text": "imps"
         }
        }
       }
      },
      "text/html": [
       "<div>\n",
       "        \n",
       "        \n",
       "            <div id=\"2d8f6722-00f4-4faa-a412-9ab97e72689f\" class=\"plotly-graph-div\" style=\"height:525px; width:100%;\"></div>\n",
       "            <script type=\"text/javascript\">\n",
       "                require([\"plotly\"], function(Plotly) {\n",
       "                    window.PLOTLYENV=window.PLOTLYENV || {};\n",
       "                    \n",
       "                if (document.getElementById(\"2d8f6722-00f4-4faa-a412-9ab97e72689f\")) {\n",
       "                    Plotly.newPlot(\n",
       "                        '2d8f6722-00f4-4faa-a412-9ab97e72689f',\n",
       "                        [{\"alignmentgroup\": \"True\", \"hovertemplate\": \"cols=%{x}<br>imps=%{y}<extra></extra>\", \"legendgroup\": \"\", \"marker\": {\"color\": \"#636efa\"}, \"name\": \"\", \"offsetgroup\": \"\", \"orientation\": \"v\", \"showlegend\": false, \"textposition\": \"auto\", \"type\": \"bar\", \"x\": [\"genetica_Si\", \"socialmente_activo_Si\", \"vegetariano_Si\", \"socialmente_activo_No\", \"genetica_No\", \"colesterol_Adecuado\", \"soledad_No\", \"edad\", \"fumador_no_fumador\", \"vegetariano_No\", \"tipo_adiccion_Marihuana\", \"vegano_Si\", \"tipo_adiccion_Ninguna\", \"fumador_fumador_activo\", \"soledad_Si\", \"mano_dominante_zurdo\", \"mano_dominante_ambidiestro\", \"colesterol_No_Adecuado\", \"actividad_creativa_ninguna\", \"actividad_creativa_pintura\", \"actividad_creativa_otras\", \"actividad_fisica_moderada\", \"actividad_creativa_musica\", \"actividad_creativa_escultura\", \"actividad_creativa_escritura\"], \"xaxis\": \"x\", \"y\": [0.9101649569115304, 0.056671503975841066, 0.012803160840069055, 0.00621948423155485, 0.005477025604718456, 0.0037445928439727772, 0.002371610672987023, 0.0008916167586070961, 0.0006518010879845533, 0.0004761133196183242, 0.00018360669077092107, 0.00015860771900237712, 0.00014283551572164173, 4.308382762143682e-05, 0.0, 0.0, 0.0, 0.0, 0.0, 0.0, 0.0, 0.0, 0.0, 0.0, 0.0], \"yaxis\": \"y\"}],\n",
       "                        {\"barmode\": \"relative\", \"legend\": {\"tracegroupgap\": 0}, \"margin\": {\"t\": 60}, \"template\": {\"data\": {\"bar\": [{\"error_x\": {\"color\": \"#2a3f5f\"}, \"error_y\": {\"color\": \"#2a3f5f\"}, \"marker\": {\"line\": {\"color\": \"#E5ECF6\", \"width\": 0.5}}, \"type\": \"bar\"}], \"barpolar\": [{\"marker\": {\"line\": {\"color\": \"#E5ECF6\", \"width\": 0.5}}, \"type\": \"barpolar\"}], \"carpet\": [{\"aaxis\": {\"endlinecolor\": \"#2a3f5f\", \"gridcolor\": \"white\", \"linecolor\": \"white\", \"minorgridcolor\": \"white\", \"startlinecolor\": \"#2a3f5f\"}, \"baxis\": {\"endlinecolor\": \"#2a3f5f\", \"gridcolor\": \"white\", \"linecolor\": \"white\", \"minorgridcolor\": \"white\", \"startlinecolor\": \"#2a3f5f\"}, \"type\": \"carpet\"}], \"choropleth\": [{\"colorbar\": {\"outlinewidth\": 0, \"ticks\": \"\"}, \"type\": \"choropleth\"}], \"contour\": [{\"colorbar\": {\"outlinewidth\": 0, \"ticks\": \"\"}, \"colorscale\": [[0.0, \"#0d0887\"], [0.1111111111111111, \"#46039f\"], [0.2222222222222222, \"#7201a8\"], [0.3333333333333333, \"#9c179e\"], [0.4444444444444444, \"#bd3786\"], [0.5555555555555556, \"#d8576b\"], [0.6666666666666666, \"#ed7953\"], [0.7777777777777778, \"#fb9f3a\"], [0.8888888888888888, \"#fdca26\"], [1.0, \"#f0f921\"]], \"type\": \"contour\"}], \"contourcarpet\": [{\"colorbar\": {\"outlinewidth\": 0, \"ticks\": \"\"}, \"type\": \"contourcarpet\"}], \"heatmap\": [{\"colorbar\": {\"outlinewidth\": 0, \"ticks\": \"\"}, \"colorscale\": [[0.0, \"#0d0887\"], [0.1111111111111111, \"#46039f\"], [0.2222222222222222, \"#7201a8\"], [0.3333333333333333, \"#9c179e\"], [0.4444444444444444, \"#bd3786\"], [0.5555555555555556, \"#d8576b\"], [0.6666666666666666, \"#ed7953\"], [0.7777777777777778, \"#fb9f3a\"], [0.8888888888888888, \"#fdca26\"], [1.0, \"#f0f921\"]], \"type\": \"heatmap\"}], \"heatmapgl\": [{\"colorbar\": {\"outlinewidth\": 0, \"ticks\": \"\"}, \"colorscale\": [[0.0, \"#0d0887\"], [0.1111111111111111, \"#46039f\"], [0.2222222222222222, \"#7201a8\"], [0.3333333333333333, \"#9c179e\"], [0.4444444444444444, \"#bd3786\"], [0.5555555555555556, \"#d8576b\"], [0.6666666666666666, \"#ed7953\"], [0.7777777777777778, \"#fb9f3a\"], [0.8888888888888888, \"#fdca26\"], [1.0, \"#f0f921\"]], \"type\": \"heatmapgl\"}], \"histogram\": [{\"marker\": {\"colorbar\": {\"outlinewidth\": 0, \"ticks\": \"\"}}, \"type\": \"histogram\"}], \"histogram2d\": [{\"colorbar\": {\"outlinewidth\": 0, \"ticks\": \"\"}, \"colorscale\": [[0.0, \"#0d0887\"], [0.1111111111111111, \"#46039f\"], [0.2222222222222222, \"#7201a8\"], [0.3333333333333333, \"#9c179e\"], [0.4444444444444444, \"#bd3786\"], [0.5555555555555556, \"#d8576b\"], [0.6666666666666666, \"#ed7953\"], [0.7777777777777778, \"#fb9f3a\"], [0.8888888888888888, \"#fdca26\"], [1.0, \"#f0f921\"]], \"type\": \"histogram2d\"}], \"histogram2dcontour\": [{\"colorbar\": {\"outlinewidth\": 0, \"ticks\": \"\"}, \"colorscale\": [[0.0, \"#0d0887\"], [0.1111111111111111, \"#46039f\"], [0.2222222222222222, \"#7201a8\"], [0.3333333333333333, \"#9c179e\"], [0.4444444444444444, \"#bd3786\"], [0.5555555555555556, \"#d8576b\"], [0.6666666666666666, \"#ed7953\"], [0.7777777777777778, \"#fb9f3a\"], [0.8888888888888888, \"#fdca26\"], [1.0, \"#f0f921\"]], \"type\": \"histogram2dcontour\"}], \"mesh3d\": [{\"colorbar\": {\"outlinewidth\": 0, \"ticks\": \"\"}, \"type\": \"mesh3d\"}], \"parcoords\": [{\"line\": {\"colorbar\": {\"outlinewidth\": 0, \"ticks\": \"\"}}, \"type\": \"parcoords\"}], \"pie\": [{\"automargin\": true, \"type\": \"pie\"}], \"scatter\": [{\"marker\": {\"colorbar\": {\"outlinewidth\": 0, \"ticks\": \"\"}}, \"type\": \"scatter\"}], \"scatter3d\": [{\"line\": {\"colorbar\": {\"outlinewidth\": 0, \"ticks\": \"\"}}, \"marker\": {\"colorbar\": {\"outlinewidth\": 0, \"ticks\": \"\"}}, \"type\": \"scatter3d\"}], \"scattercarpet\": [{\"marker\": {\"colorbar\": {\"outlinewidth\": 0, \"ticks\": \"\"}}, \"type\": \"scattercarpet\"}], \"scattergeo\": [{\"marker\": {\"colorbar\": {\"outlinewidth\": 0, \"ticks\": \"\"}}, \"type\": \"scattergeo\"}], \"scattergl\": [{\"marker\": {\"colorbar\": {\"outlinewidth\": 0, \"ticks\": \"\"}}, \"type\": \"scattergl\"}], \"scattermapbox\": [{\"marker\": {\"colorbar\": {\"outlinewidth\": 0, \"ticks\": \"\"}}, \"type\": \"scattermapbox\"}], \"scatterpolar\": [{\"marker\": {\"colorbar\": {\"outlinewidth\": 0, \"ticks\": \"\"}}, \"type\": \"scatterpolar\"}], \"scatterpolargl\": [{\"marker\": {\"colorbar\": {\"outlinewidth\": 0, \"ticks\": \"\"}}, \"type\": \"scatterpolargl\"}], \"scatterternary\": [{\"marker\": {\"colorbar\": {\"outlinewidth\": 0, \"ticks\": \"\"}}, \"type\": \"scatterternary\"}], \"surface\": [{\"colorbar\": {\"outlinewidth\": 0, \"ticks\": \"\"}, \"colorscale\": [[0.0, \"#0d0887\"], [0.1111111111111111, \"#46039f\"], [0.2222222222222222, \"#7201a8\"], [0.3333333333333333, \"#9c179e\"], [0.4444444444444444, \"#bd3786\"], [0.5555555555555556, \"#d8576b\"], [0.6666666666666666, \"#ed7953\"], [0.7777777777777778, \"#fb9f3a\"], [0.8888888888888888, \"#fdca26\"], [1.0, \"#f0f921\"]], \"type\": \"surface\"}], \"table\": [{\"cells\": {\"fill\": {\"color\": \"#EBF0F8\"}, \"line\": {\"color\": \"white\"}}, \"header\": {\"fill\": {\"color\": \"#C8D4E3\"}, \"line\": {\"color\": \"white\"}}, \"type\": \"table\"}]}, \"layout\": {\"annotationdefaults\": {\"arrowcolor\": \"#2a3f5f\", \"arrowhead\": 0, \"arrowwidth\": 1}, \"coloraxis\": {\"colorbar\": {\"outlinewidth\": 0, \"ticks\": \"\"}}, \"colorscale\": {\"diverging\": [[0, \"#8e0152\"], [0.1, \"#c51b7d\"], [0.2, \"#de77ae\"], [0.3, \"#f1b6da\"], [0.4, \"#fde0ef\"], [0.5, \"#f7f7f7\"], [0.6, \"#e6f5d0\"], [0.7, \"#b8e186\"], [0.8, \"#7fbc41\"], [0.9, \"#4d9221\"], [1, \"#276419\"]], \"sequential\": [[0.0, \"#0d0887\"], [0.1111111111111111, \"#46039f\"], [0.2222222222222222, \"#7201a8\"], [0.3333333333333333, \"#9c179e\"], [0.4444444444444444, \"#bd3786\"], [0.5555555555555556, \"#d8576b\"], [0.6666666666666666, \"#ed7953\"], [0.7777777777777778, \"#fb9f3a\"], [0.8888888888888888, \"#fdca26\"], [1.0, \"#f0f921\"]], \"sequentialminus\": [[0.0, \"#0d0887\"], [0.1111111111111111, \"#46039f\"], [0.2222222222222222, \"#7201a8\"], [0.3333333333333333, \"#9c179e\"], [0.4444444444444444, \"#bd3786\"], [0.5555555555555556, \"#d8576b\"], [0.6666666666666666, \"#ed7953\"], [0.7777777777777778, \"#fb9f3a\"], [0.8888888888888888, \"#fdca26\"], [1.0, \"#f0f921\"]]}, \"colorway\": [\"#636efa\", \"#EF553B\", \"#00cc96\", \"#ab63fa\", \"#FFA15A\", \"#19d3f3\", \"#FF6692\", \"#B6E880\", \"#FF97FF\", \"#FECB52\"], \"font\": {\"color\": \"#2a3f5f\"}, \"geo\": {\"bgcolor\": \"white\", \"lakecolor\": \"white\", \"landcolor\": \"#E5ECF6\", \"showlakes\": true, \"showland\": true, \"subunitcolor\": \"white\"}, \"hoverlabel\": {\"align\": \"left\"}, \"hovermode\": \"closest\", \"mapbox\": {\"style\": \"light\"}, \"paper_bgcolor\": \"white\", \"plot_bgcolor\": \"#E5ECF6\", \"polar\": {\"angularaxis\": {\"gridcolor\": \"white\", \"linecolor\": \"white\", \"ticks\": \"\"}, \"bgcolor\": \"#E5ECF6\", \"radialaxis\": {\"gridcolor\": \"white\", \"linecolor\": \"white\", \"ticks\": \"\"}}, \"scene\": {\"xaxis\": {\"backgroundcolor\": \"#E5ECF6\", \"gridcolor\": \"white\", \"gridwidth\": 2, \"linecolor\": \"white\", \"showbackground\": true, \"ticks\": \"\", \"zerolinecolor\": \"white\"}, \"yaxis\": {\"backgroundcolor\": \"#E5ECF6\", \"gridcolor\": \"white\", \"gridwidth\": 2, \"linecolor\": \"white\", \"showbackground\": true, \"ticks\": \"\", \"zerolinecolor\": \"white\"}, \"zaxis\": {\"backgroundcolor\": \"#E5ECF6\", \"gridcolor\": \"white\", \"gridwidth\": 2, \"linecolor\": \"white\", \"showbackground\": true, \"ticks\": \"\", \"zerolinecolor\": \"white\"}}, \"shapedefaults\": {\"line\": {\"color\": \"#2a3f5f\"}}, \"ternary\": {\"aaxis\": {\"gridcolor\": \"white\", \"linecolor\": \"white\", \"ticks\": \"\"}, \"baxis\": {\"gridcolor\": \"white\", \"linecolor\": \"white\", \"ticks\": \"\"}, \"bgcolor\": \"#E5ECF6\", \"caxis\": {\"gridcolor\": \"white\", \"linecolor\": \"white\", \"ticks\": \"\"}}, \"title\": {\"x\": 0.05}, \"xaxis\": {\"automargin\": true, \"gridcolor\": \"white\", \"linecolor\": \"white\", \"ticks\": \"\", \"title\": {\"standoff\": 15}, \"zerolinecolor\": \"white\", \"zerolinewidth\": 2}, \"yaxis\": {\"automargin\": true, \"gridcolor\": \"white\", \"linecolor\": \"white\", \"ticks\": \"\", \"title\": {\"standoff\": 15}, \"zerolinecolor\": \"white\", \"zerolinewidth\": 2}}}, \"xaxis\": {\"anchor\": \"y\", \"domain\": [0.0, 1.0], \"title\": {\"text\": \"cols\"}}, \"yaxis\": {\"anchor\": \"x\", \"domain\": [0.0, 1.0], \"title\": {\"text\": \"imps\"}}},\n",
       "                        {\"responsive\": true}\n",
       "                    ).then(function(){\n",
       "                            \n",
       "var gd = document.getElementById('2d8f6722-00f4-4faa-a412-9ab97e72689f');\n",
       "var x = new MutationObserver(function (mutations, observer) {{\n",
       "        var display = window.getComputedStyle(gd).display;\n",
       "        if (!display || display === 'none') {{\n",
       "            console.log([gd, 'removed!']);\n",
       "            Plotly.purge(gd);\n",
       "            observer.disconnect();\n",
       "        }}\n",
       "}});\n",
       "\n",
       "// Listen for the removal of the full notebook cells\n",
       "var notebookContainer = gd.closest('#notebook-container');\n",
       "if (notebookContainer) {{\n",
       "    x.observe(notebookContainer, {childList: true});\n",
       "}}\n",
       "\n",
       "// Listen for the clearing of the current output cell\n",
       "var outputEl = gd.closest('.output');\n",
       "if (outputEl) {{\n",
       "    x.observe(outputEl, {childList: true});\n",
       "}}\n",
       "\n",
       "                        })\n",
       "                };\n",
       "                });\n",
       "            </script>\n",
       "        </div>"
      ]
     },
     "metadata": {},
     "output_type": "display_data"
    }
   ],
   "source": [
    "col_sorted_by_importance=dt_classifier.feature_importances_.argsort()\n",
    "feat_imp=pd.DataFrame({\n",
    "    'cols':X.columns[col_sorted_by_importance],\n",
    "    'imps':dt_classifier.feature_importances_[col_sorted_by_importance]\n",
    "})\n",
    "\n",
    "import plotly_express as px\n",
    "px.bar(feat_imp.sort_values(by=\"imps\", ascending=False).sort_values(by=\"imps\", ascending=False).iloc[0:25]\n",
    "       , x='cols', y='imps')\n"
   ]
  },
  {
   "cell_type": "markdown",
   "metadata": {},
   "source": [
    "Usemos la técnica de permutación para ver mejor la importancia de cada variable"
   ]
  },
  {
   "cell_type": "markdown",
   "metadata": {},
   "source": [
    "### 5.2 Aplicación de la permutación de la selección de variables"
   ]
  },
  {
   "cell_type": "code",
   "execution_count": 217,
   "metadata": {},
   "outputs": [],
   "source": [
    "def PermImportance(X, y, clf, metric, num_iterations=100):\n",
    "    baseline_metric=metric(y, clf.predict(X))\n",
    "    scores={c:[] for c in X.columns}\n",
    "    for c in X.columns:\n",
    "        X1=X.copy(deep=True)\n",
    "        for _ in range(num_iterations):\n",
    "            temp=X1[c].tolist()\n",
    "            random.shuffle(temp)\n",
    "            X1[c]=temp\n",
    "            score=metric(y, clf.predict(X1))\n",
    "            scores[c].append(baseline_metric-score)\n",
    "    return baseline_metric, scores"
   ]
  },
  {
   "cell_type": "code",
   "execution_count": 218,
   "metadata": {},
   "outputs": [],
   "source": [
    "baseline, scores=PermImportance(X_test, y_test, dt_classifier, recall_score, num_iterations=10)"
   ]
  },
  {
   "cell_type": "code",
   "execution_count": 219,
   "metadata": {},
   "outputs": [],
   "source": [
    "percent_changes={c:[] for c in X.columns}\n",
    "for c in scores:\n",
    "    for i in range(len(scores[c])):\n",
    "        percent_changes[c].append(scores[c][i]/baseline*100)"
   ]
  },
  {
   "cell_type": "markdown",
   "metadata": {},
   "source": [
    "px.bar(\n",
    "    pd.DataFrame.from_dict(percent_changes).melt().groupby(['variable']).mean().reset_index().sort_values(['value'], ascending=False)[:25], \n",
    "    x='variable', \n",
    "    y='value', \n",
    "    labels={\n",
    "        'variable':'column', \n",
    "        'value':'% change in recall'\n",
    "        }\n",
    "       )"
   ]
  },
  {
   "cell_type": "code",
   "execution_count": 221,
   "metadata": {},
   "outputs": [
    {
     "data": {
      "application/vnd.plotly.v1+json": {
       "config": {
        "plotlyServerURL": "https://plot.ly"
       },
       "data": [
        {
         "alignmentgroup": "True",
         "hovertemplate": "columnas=%{x}<br>% cambio en recall=%{y}<extra></extra>",
         "legendgroup": "",
         "marker": {
          "color": "#636efa"
         },
         "name": "",
         "offsetgroup": "",
         "orientation": "v",
         "showlegend": false,
         "textposition": "auto",
         "type": "bar",
         "x": [
          "genetica_Si",
          "edad",
          "vegano_Si",
          "soledad_No",
          "fumador_no_fumador",
          "tipo_adiccion_Marihuana",
          "genetica_No",
          "vegetariano_No",
          "socialmente_activo_No",
          "nacionalidad_Francia",
          "nacionalidad_Inglaterra",
          "nacionalidad_Japon",
          "nacionalidad_Polonia",
          "nacionalidad_Rumania",
          "actividad_creativa_escritura",
          "nacionalidad_Venezuela",
          "nivel_educativo_alto",
          "nacionalidad_Ecuador",
          "nivel_educativo_alto-medio",
          "nivel_educativo_bajo",
          "nivel_educativo_bajo-medio",
          "nivel_educativo_medio",
          "nacionalidad_Espana",
          "mano_dominante_ambidiestro",
          "nacionalidad_Colombia"
         ],
         "xaxis": "x",
         "y": [
          24.790124495289366,
          6.482166890982498,
          1.7185397039030899,
          1.676901076716011,
          0.9404441453566583,
          0.9231998654104929,
          0.37222409152085617,
          0.3074528936742894,
          0.13963660834454425,
          0,
          0,
          0,
          0,
          0,
          0,
          0,
          0,
          0,
          0,
          0,
          0,
          0,
          0,
          0,
          0
         ],
         "yaxis": "y"
        }
       ],
       "layout": {
        "barmode": "relative",
        "legend": {
         "tracegroupgap": 0
        },
        "margin": {
         "t": 60
        },
        "template": {
         "data": {
          "bar": [
           {
            "error_x": {
             "color": "#2a3f5f"
            },
            "error_y": {
             "color": "#2a3f5f"
            },
            "marker": {
             "line": {
              "color": "#E5ECF6",
              "width": 0.5
             }
            },
            "type": "bar"
           }
          ],
          "barpolar": [
           {
            "marker": {
             "line": {
              "color": "#E5ECF6",
              "width": 0.5
             }
            },
            "type": "barpolar"
           }
          ],
          "carpet": [
           {
            "aaxis": {
             "endlinecolor": "#2a3f5f",
             "gridcolor": "white",
             "linecolor": "white",
             "minorgridcolor": "white",
             "startlinecolor": "#2a3f5f"
            },
            "baxis": {
             "endlinecolor": "#2a3f5f",
             "gridcolor": "white",
             "linecolor": "white",
             "minorgridcolor": "white",
             "startlinecolor": "#2a3f5f"
            },
            "type": "carpet"
           }
          ],
          "choropleth": [
           {
            "colorbar": {
             "outlinewidth": 0,
             "ticks": ""
            },
            "type": "choropleth"
           }
          ],
          "contour": [
           {
            "colorbar": {
             "outlinewidth": 0,
             "ticks": ""
            },
            "colorscale": [
             [
              0,
              "#0d0887"
             ],
             [
              0.1111111111111111,
              "#46039f"
             ],
             [
              0.2222222222222222,
              "#7201a8"
             ],
             [
              0.3333333333333333,
              "#9c179e"
             ],
             [
              0.4444444444444444,
              "#bd3786"
             ],
             [
              0.5555555555555556,
              "#d8576b"
             ],
             [
              0.6666666666666666,
              "#ed7953"
             ],
             [
              0.7777777777777778,
              "#fb9f3a"
             ],
             [
              0.8888888888888888,
              "#fdca26"
             ],
             [
              1,
              "#f0f921"
             ]
            ],
            "type": "contour"
           }
          ],
          "contourcarpet": [
           {
            "colorbar": {
             "outlinewidth": 0,
             "ticks": ""
            },
            "type": "contourcarpet"
           }
          ],
          "heatmap": [
           {
            "colorbar": {
             "outlinewidth": 0,
             "ticks": ""
            },
            "colorscale": [
             [
              0,
              "#0d0887"
             ],
             [
              0.1111111111111111,
              "#46039f"
             ],
             [
              0.2222222222222222,
              "#7201a8"
             ],
             [
              0.3333333333333333,
              "#9c179e"
             ],
             [
              0.4444444444444444,
              "#bd3786"
             ],
             [
              0.5555555555555556,
              "#d8576b"
             ],
             [
              0.6666666666666666,
              "#ed7953"
             ],
             [
              0.7777777777777778,
              "#fb9f3a"
             ],
             [
              0.8888888888888888,
              "#fdca26"
             ],
             [
              1,
              "#f0f921"
             ]
            ],
            "type": "heatmap"
           }
          ],
          "heatmapgl": [
           {
            "colorbar": {
             "outlinewidth": 0,
             "ticks": ""
            },
            "colorscale": [
             [
              0,
              "#0d0887"
             ],
             [
              0.1111111111111111,
              "#46039f"
             ],
             [
              0.2222222222222222,
              "#7201a8"
             ],
             [
              0.3333333333333333,
              "#9c179e"
             ],
             [
              0.4444444444444444,
              "#bd3786"
             ],
             [
              0.5555555555555556,
              "#d8576b"
             ],
             [
              0.6666666666666666,
              "#ed7953"
             ],
             [
              0.7777777777777778,
              "#fb9f3a"
             ],
             [
              0.8888888888888888,
              "#fdca26"
             ],
             [
              1,
              "#f0f921"
             ]
            ],
            "type": "heatmapgl"
           }
          ],
          "histogram": [
           {
            "marker": {
             "colorbar": {
              "outlinewidth": 0,
              "ticks": ""
             }
            },
            "type": "histogram"
           }
          ],
          "histogram2d": [
           {
            "colorbar": {
             "outlinewidth": 0,
             "ticks": ""
            },
            "colorscale": [
             [
              0,
              "#0d0887"
             ],
             [
              0.1111111111111111,
              "#46039f"
             ],
             [
              0.2222222222222222,
              "#7201a8"
             ],
             [
              0.3333333333333333,
              "#9c179e"
             ],
             [
              0.4444444444444444,
              "#bd3786"
             ],
             [
              0.5555555555555556,
              "#d8576b"
             ],
             [
              0.6666666666666666,
              "#ed7953"
             ],
             [
              0.7777777777777778,
              "#fb9f3a"
             ],
             [
              0.8888888888888888,
              "#fdca26"
             ],
             [
              1,
              "#f0f921"
             ]
            ],
            "type": "histogram2d"
           }
          ],
          "histogram2dcontour": [
           {
            "colorbar": {
             "outlinewidth": 0,
             "ticks": ""
            },
            "colorscale": [
             [
              0,
              "#0d0887"
             ],
             [
              0.1111111111111111,
              "#46039f"
             ],
             [
              0.2222222222222222,
              "#7201a8"
             ],
             [
              0.3333333333333333,
              "#9c179e"
             ],
             [
              0.4444444444444444,
              "#bd3786"
             ],
             [
              0.5555555555555556,
              "#d8576b"
             ],
             [
              0.6666666666666666,
              "#ed7953"
             ],
             [
              0.7777777777777778,
              "#fb9f3a"
             ],
             [
              0.8888888888888888,
              "#fdca26"
             ],
             [
              1,
              "#f0f921"
             ]
            ],
            "type": "histogram2dcontour"
           }
          ],
          "mesh3d": [
           {
            "colorbar": {
             "outlinewidth": 0,
             "ticks": ""
            },
            "type": "mesh3d"
           }
          ],
          "parcoords": [
           {
            "line": {
             "colorbar": {
              "outlinewidth": 0,
              "ticks": ""
             }
            },
            "type": "parcoords"
           }
          ],
          "pie": [
           {
            "automargin": true,
            "type": "pie"
           }
          ],
          "scatter": [
           {
            "marker": {
             "colorbar": {
              "outlinewidth": 0,
              "ticks": ""
             }
            },
            "type": "scatter"
           }
          ],
          "scatter3d": [
           {
            "line": {
             "colorbar": {
              "outlinewidth": 0,
              "ticks": ""
             }
            },
            "marker": {
             "colorbar": {
              "outlinewidth": 0,
              "ticks": ""
             }
            },
            "type": "scatter3d"
           }
          ],
          "scattercarpet": [
           {
            "marker": {
             "colorbar": {
              "outlinewidth": 0,
              "ticks": ""
             }
            },
            "type": "scattercarpet"
           }
          ],
          "scattergeo": [
           {
            "marker": {
             "colorbar": {
              "outlinewidth": 0,
              "ticks": ""
             }
            },
            "type": "scattergeo"
           }
          ],
          "scattergl": [
           {
            "marker": {
             "colorbar": {
              "outlinewidth": 0,
              "ticks": ""
             }
            },
            "type": "scattergl"
           }
          ],
          "scattermapbox": [
           {
            "marker": {
             "colorbar": {
              "outlinewidth": 0,
              "ticks": ""
             }
            },
            "type": "scattermapbox"
           }
          ],
          "scatterpolar": [
           {
            "marker": {
             "colorbar": {
              "outlinewidth": 0,
              "ticks": ""
             }
            },
            "type": "scatterpolar"
           }
          ],
          "scatterpolargl": [
           {
            "marker": {
             "colorbar": {
              "outlinewidth": 0,
              "ticks": ""
             }
            },
            "type": "scatterpolargl"
           }
          ],
          "scatterternary": [
           {
            "marker": {
             "colorbar": {
              "outlinewidth": 0,
              "ticks": ""
             }
            },
            "type": "scatterternary"
           }
          ],
          "surface": [
           {
            "colorbar": {
             "outlinewidth": 0,
             "ticks": ""
            },
            "colorscale": [
             [
              0,
              "#0d0887"
             ],
             [
              0.1111111111111111,
              "#46039f"
             ],
             [
              0.2222222222222222,
              "#7201a8"
             ],
             [
              0.3333333333333333,
              "#9c179e"
             ],
             [
              0.4444444444444444,
              "#bd3786"
             ],
             [
              0.5555555555555556,
              "#d8576b"
             ],
             [
              0.6666666666666666,
              "#ed7953"
             ],
             [
              0.7777777777777778,
              "#fb9f3a"
             ],
             [
              0.8888888888888888,
              "#fdca26"
             ],
             [
              1,
              "#f0f921"
             ]
            ],
            "type": "surface"
           }
          ],
          "table": [
           {
            "cells": {
             "fill": {
              "color": "#EBF0F8"
             },
             "line": {
              "color": "white"
             }
            },
            "header": {
             "fill": {
              "color": "#C8D4E3"
             },
             "line": {
              "color": "white"
             }
            },
            "type": "table"
           }
          ]
         },
         "layout": {
          "annotationdefaults": {
           "arrowcolor": "#2a3f5f",
           "arrowhead": 0,
           "arrowwidth": 1
          },
          "coloraxis": {
           "colorbar": {
            "outlinewidth": 0,
            "ticks": ""
           }
          },
          "colorscale": {
           "diverging": [
            [
             0,
             "#8e0152"
            ],
            [
             0.1,
             "#c51b7d"
            ],
            [
             0.2,
             "#de77ae"
            ],
            [
             0.3,
             "#f1b6da"
            ],
            [
             0.4,
             "#fde0ef"
            ],
            [
             0.5,
             "#f7f7f7"
            ],
            [
             0.6,
             "#e6f5d0"
            ],
            [
             0.7,
             "#b8e186"
            ],
            [
             0.8,
             "#7fbc41"
            ],
            [
             0.9,
             "#4d9221"
            ],
            [
             1,
             "#276419"
            ]
           ],
           "sequential": [
            [
             0,
             "#0d0887"
            ],
            [
             0.1111111111111111,
             "#46039f"
            ],
            [
             0.2222222222222222,
             "#7201a8"
            ],
            [
             0.3333333333333333,
             "#9c179e"
            ],
            [
             0.4444444444444444,
             "#bd3786"
            ],
            [
             0.5555555555555556,
             "#d8576b"
            ],
            [
             0.6666666666666666,
             "#ed7953"
            ],
            [
             0.7777777777777778,
             "#fb9f3a"
            ],
            [
             0.8888888888888888,
             "#fdca26"
            ],
            [
             1,
             "#f0f921"
            ]
           ],
           "sequentialminus": [
            [
             0,
             "#0d0887"
            ],
            [
             0.1111111111111111,
             "#46039f"
            ],
            [
             0.2222222222222222,
             "#7201a8"
            ],
            [
             0.3333333333333333,
             "#9c179e"
            ],
            [
             0.4444444444444444,
             "#bd3786"
            ],
            [
             0.5555555555555556,
             "#d8576b"
            ],
            [
             0.6666666666666666,
             "#ed7953"
            ],
            [
             0.7777777777777778,
             "#fb9f3a"
            ],
            [
             0.8888888888888888,
             "#fdca26"
            ],
            [
             1,
             "#f0f921"
            ]
           ]
          },
          "colorway": [
           "#636efa",
           "#EF553B",
           "#00cc96",
           "#ab63fa",
           "#FFA15A",
           "#19d3f3",
           "#FF6692",
           "#B6E880",
           "#FF97FF",
           "#FECB52"
          ],
          "font": {
           "color": "#2a3f5f"
          },
          "geo": {
           "bgcolor": "white",
           "lakecolor": "white",
           "landcolor": "#E5ECF6",
           "showlakes": true,
           "showland": true,
           "subunitcolor": "white"
          },
          "hoverlabel": {
           "align": "left"
          },
          "hovermode": "closest",
          "mapbox": {
           "style": "light"
          },
          "paper_bgcolor": "white",
          "plot_bgcolor": "#E5ECF6",
          "polar": {
           "angularaxis": {
            "gridcolor": "white",
            "linecolor": "white",
            "ticks": ""
           },
           "bgcolor": "#E5ECF6",
           "radialaxis": {
            "gridcolor": "white",
            "linecolor": "white",
            "ticks": ""
           }
          },
          "scene": {
           "xaxis": {
            "backgroundcolor": "#E5ECF6",
            "gridcolor": "white",
            "gridwidth": 2,
            "linecolor": "white",
            "showbackground": true,
            "ticks": "",
            "zerolinecolor": "white"
           },
           "yaxis": {
            "backgroundcolor": "#E5ECF6",
            "gridcolor": "white",
            "gridwidth": 2,
            "linecolor": "white",
            "showbackground": true,
            "ticks": "",
            "zerolinecolor": "white"
           },
           "zaxis": {
            "backgroundcolor": "#E5ECF6",
            "gridcolor": "white",
            "gridwidth": 2,
            "linecolor": "white",
            "showbackground": true,
            "ticks": "",
            "zerolinecolor": "white"
           }
          },
          "shapedefaults": {
           "line": {
            "color": "#2a3f5f"
           }
          },
          "ternary": {
           "aaxis": {
            "gridcolor": "white",
            "linecolor": "white",
            "ticks": ""
           },
           "baxis": {
            "gridcolor": "white",
            "linecolor": "white",
            "ticks": ""
           },
           "bgcolor": "#E5ECF6",
           "caxis": {
            "gridcolor": "white",
            "linecolor": "white",
            "ticks": ""
           }
          },
          "title": {
           "x": 0.05
          },
          "xaxis": {
           "automargin": true,
           "gridcolor": "white",
           "linecolor": "white",
           "ticks": "",
           "title": {
            "standoff": 15
           },
           "zerolinecolor": "white",
           "zerolinewidth": 2
          },
          "yaxis": {
           "automargin": true,
           "gridcolor": "white",
           "linecolor": "white",
           "ticks": "",
           "title": {
            "standoff": 15
           },
           "zerolinecolor": "white",
           "zerolinewidth": 2
          }
         }
        },
        "xaxis": {
         "anchor": "y",
         "domain": [
          0,
          1
         ],
         "title": {
          "text": "columnas"
         }
        },
        "yaxis": {
         "anchor": "x",
         "domain": [
          0,
          1
         ],
         "title": {
          "text": "% cambio en recall"
         }
        }
       }
      },
      "text/html": [
       "<div>\n",
       "        \n",
       "        \n",
       "            <div id=\"d477f4f9-c43d-4a5b-b5f8-f1af157613d8\" class=\"plotly-graph-div\" style=\"height:525px; width:100%;\"></div>\n",
       "            <script type=\"text/javascript\">\n",
       "                require([\"plotly\"], function(Plotly) {\n",
       "                    window.PLOTLYENV=window.PLOTLYENV || {};\n",
       "                    \n",
       "                if (document.getElementById(\"d477f4f9-c43d-4a5b-b5f8-f1af157613d8\")) {\n",
       "                    Plotly.newPlot(\n",
       "                        'd477f4f9-c43d-4a5b-b5f8-f1af157613d8',\n",
       "                        [{\"alignmentgroup\": \"True\", \"hovertemplate\": \"columnas=%{x}<br>% cambio en recall=%{y}<extra></extra>\", \"legendgroup\": \"\", \"marker\": {\"color\": \"#636efa\"}, \"name\": \"\", \"offsetgroup\": \"\", \"orientation\": \"v\", \"showlegend\": false, \"textposition\": \"auto\", \"type\": \"bar\", \"x\": [\"genetica_Si\", \"edad\", \"vegano_Si\", \"soledad_No\", \"fumador_no_fumador\", \"tipo_adiccion_Marihuana\", \"genetica_No\", \"vegetariano_No\", \"socialmente_activo_No\", \"nacionalidad_Francia\", \"nacionalidad_Inglaterra\", \"nacionalidad_Japon\", \"nacionalidad_Polonia\", \"nacionalidad_Rumania\", \"actividad_creativa_escritura\", \"nacionalidad_Venezuela\", \"nivel_educativo_alto\", \"nacionalidad_Ecuador\", \"nivel_educativo_alto-medio\", \"nivel_educativo_bajo\", \"nivel_educativo_bajo-medio\", \"nivel_educativo_medio\", \"nacionalidad_Espana\", \"mano_dominante_ambidiestro\", \"nacionalidad_Colombia\"], \"xaxis\": \"x\", \"y\": [24.790124495289366, 6.482166890982498, 1.7185397039030899, 1.676901076716011, 0.9404441453566583, 0.9231998654104929, 0.37222409152085617, 0.3074528936742894, 0.13963660834454425, 0.0, 0.0, 0.0, 0.0, 0.0, 0.0, 0.0, 0.0, 0.0, 0.0, 0.0, 0.0, 0.0, 0.0, 0.0, 0.0], \"yaxis\": \"y\"}],\n",
       "                        {\"barmode\": \"relative\", \"legend\": {\"tracegroupgap\": 0}, \"margin\": {\"t\": 60}, \"template\": {\"data\": {\"bar\": [{\"error_x\": {\"color\": \"#2a3f5f\"}, \"error_y\": {\"color\": \"#2a3f5f\"}, \"marker\": {\"line\": {\"color\": \"#E5ECF6\", \"width\": 0.5}}, \"type\": \"bar\"}], \"barpolar\": [{\"marker\": {\"line\": {\"color\": \"#E5ECF6\", \"width\": 0.5}}, \"type\": \"barpolar\"}], \"carpet\": [{\"aaxis\": {\"endlinecolor\": \"#2a3f5f\", \"gridcolor\": \"white\", \"linecolor\": \"white\", \"minorgridcolor\": \"white\", \"startlinecolor\": \"#2a3f5f\"}, \"baxis\": {\"endlinecolor\": \"#2a3f5f\", \"gridcolor\": \"white\", \"linecolor\": \"white\", \"minorgridcolor\": \"white\", \"startlinecolor\": \"#2a3f5f\"}, \"type\": \"carpet\"}], \"choropleth\": [{\"colorbar\": {\"outlinewidth\": 0, \"ticks\": \"\"}, \"type\": \"choropleth\"}], \"contour\": [{\"colorbar\": {\"outlinewidth\": 0, \"ticks\": \"\"}, \"colorscale\": [[0.0, \"#0d0887\"], [0.1111111111111111, \"#46039f\"], [0.2222222222222222, \"#7201a8\"], [0.3333333333333333, \"#9c179e\"], [0.4444444444444444, \"#bd3786\"], [0.5555555555555556, \"#d8576b\"], [0.6666666666666666, \"#ed7953\"], [0.7777777777777778, \"#fb9f3a\"], [0.8888888888888888, \"#fdca26\"], [1.0, \"#f0f921\"]], \"type\": \"contour\"}], \"contourcarpet\": [{\"colorbar\": {\"outlinewidth\": 0, \"ticks\": \"\"}, \"type\": \"contourcarpet\"}], \"heatmap\": [{\"colorbar\": {\"outlinewidth\": 0, \"ticks\": \"\"}, \"colorscale\": [[0.0, \"#0d0887\"], [0.1111111111111111, \"#46039f\"], [0.2222222222222222, \"#7201a8\"], [0.3333333333333333, \"#9c179e\"], [0.4444444444444444, \"#bd3786\"], [0.5555555555555556, \"#d8576b\"], [0.6666666666666666, \"#ed7953\"], [0.7777777777777778, \"#fb9f3a\"], [0.8888888888888888, \"#fdca26\"], [1.0, \"#f0f921\"]], \"type\": \"heatmap\"}], \"heatmapgl\": [{\"colorbar\": {\"outlinewidth\": 0, \"ticks\": \"\"}, \"colorscale\": [[0.0, \"#0d0887\"], [0.1111111111111111, \"#46039f\"], [0.2222222222222222, \"#7201a8\"], [0.3333333333333333, \"#9c179e\"], [0.4444444444444444, \"#bd3786\"], [0.5555555555555556, \"#d8576b\"], [0.6666666666666666, \"#ed7953\"], [0.7777777777777778, \"#fb9f3a\"], [0.8888888888888888, \"#fdca26\"], [1.0, \"#f0f921\"]], \"type\": \"heatmapgl\"}], \"histogram\": [{\"marker\": {\"colorbar\": {\"outlinewidth\": 0, \"ticks\": \"\"}}, \"type\": \"histogram\"}], \"histogram2d\": [{\"colorbar\": {\"outlinewidth\": 0, \"ticks\": \"\"}, \"colorscale\": [[0.0, \"#0d0887\"], [0.1111111111111111, \"#46039f\"], [0.2222222222222222, \"#7201a8\"], [0.3333333333333333, \"#9c179e\"], [0.4444444444444444, \"#bd3786\"], [0.5555555555555556, \"#d8576b\"], [0.6666666666666666, \"#ed7953\"], [0.7777777777777778, \"#fb9f3a\"], [0.8888888888888888, \"#fdca26\"], [1.0, \"#f0f921\"]], \"type\": \"histogram2d\"}], \"histogram2dcontour\": [{\"colorbar\": {\"outlinewidth\": 0, \"ticks\": \"\"}, \"colorscale\": [[0.0, \"#0d0887\"], [0.1111111111111111, \"#46039f\"], [0.2222222222222222, \"#7201a8\"], [0.3333333333333333, \"#9c179e\"], [0.4444444444444444, \"#bd3786\"], [0.5555555555555556, \"#d8576b\"], [0.6666666666666666, \"#ed7953\"], [0.7777777777777778, \"#fb9f3a\"], [0.8888888888888888, \"#fdca26\"], [1.0, \"#f0f921\"]], \"type\": \"histogram2dcontour\"}], \"mesh3d\": [{\"colorbar\": {\"outlinewidth\": 0, \"ticks\": \"\"}, \"type\": \"mesh3d\"}], \"parcoords\": [{\"line\": {\"colorbar\": {\"outlinewidth\": 0, \"ticks\": \"\"}}, \"type\": \"parcoords\"}], \"pie\": [{\"automargin\": true, \"type\": \"pie\"}], \"scatter\": [{\"marker\": {\"colorbar\": {\"outlinewidth\": 0, \"ticks\": \"\"}}, \"type\": \"scatter\"}], \"scatter3d\": [{\"line\": {\"colorbar\": {\"outlinewidth\": 0, \"ticks\": \"\"}}, \"marker\": {\"colorbar\": {\"outlinewidth\": 0, \"ticks\": \"\"}}, \"type\": \"scatter3d\"}], \"scattercarpet\": [{\"marker\": {\"colorbar\": {\"outlinewidth\": 0, \"ticks\": \"\"}}, \"type\": \"scattercarpet\"}], \"scattergeo\": [{\"marker\": {\"colorbar\": {\"outlinewidth\": 0, \"ticks\": \"\"}}, \"type\": \"scattergeo\"}], \"scattergl\": [{\"marker\": {\"colorbar\": {\"outlinewidth\": 0, \"ticks\": \"\"}}, \"type\": \"scattergl\"}], \"scattermapbox\": [{\"marker\": {\"colorbar\": {\"outlinewidth\": 0, \"ticks\": \"\"}}, \"type\": \"scattermapbox\"}], \"scatterpolar\": [{\"marker\": {\"colorbar\": {\"outlinewidth\": 0, \"ticks\": \"\"}}, \"type\": \"scatterpolar\"}], \"scatterpolargl\": [{\"marker\": {\"colorbar\": {\"outlinewidth\": 0, \"ticks\": \"\"}}, \"type\": \"scatterpolargl\"}], \"scatterternary\": [{\"marker\": {\"colorbar\": {\"outlinewidth\": 0, \"ticks\": \"\"}}, \"type\": \"scatterternary\"}], \"surface\": [{\"colorbar\": {\"outlinewidth\": 0, \"ticks\": \"\"}, \"colorscale\": [[0.0, \"#0d0887\"], [0.1111111111111111, \"#46039f\"], [0.2222222222222222, \"#7201a8\"], [0.3333333333333333, \"#9c179e\"], [0.4444444444444444, \"#bd3786\"], [0.5555555555555556, \"#d8576b\"], [0.6666666666666666, \"#ed7953\"], [0.7777777777777778, \"#fb9f3a\"], [0.8888888888888888, \"#fdca26\"], [1.0, \"#f0f921\"]], \"type\": \"surface\"}], \"table\": [{\"cells\": {\"fill\": {\"color\": \"#EBF0F8\"}, \"line\": {\"color\": \"white\"}}, \"header\": {\"fill\": {\"color\": \"#C8D4E3\"}, \"line\": {\"color\": \"white\"}}, \"type\": \"table\"}]}, \"layout\": {\"annotationdefaults\": {\"arrowcolor\": \"#2a3f5f\", \"arrowhead\": 0, \"arrowwidth\": 1}, \"coloraxis\": {\"colorbar\": {\"outlinewidth\": 0, \"ticks\": \"\"}}, \"colorscale\": {\"diverging\": [[0, \"#8e0152\"], [0.1, \"#c51b7d\"], [0.2, \"#de77ae\"], [0.3, \"#f1b6da\"], [0.4, \"#fde0ef\"], [0.5, \"#f7f7f7\"], [0.6, \"#e6f5d0\"], [0.7, \"#b8e186\"], [0.8, \"#7fbc41\"], [0.9, \"#4d9221\"], [1, \"#276419\"]], \"sequential\": [[0.0, \"#0d0887\"], [0.1111111111111111, \"#46039f\"], [0.2222222222222222, \"#7201a8\"], [0.3333333333333333, \"#9c179e\"], [0.4444444444444444, \"#bd3786\"], [0.5555555555555556, \"#d8576b\"], [0.6666666666666666, \"#ed7953\"], [0.7777777777777778, \"#fb9f3a\"], [0.8888888888888888, \"#fdca26\"], [1.0, \"#f0f921\"]], \"sequentialminus\": [[0.0, \"#0d0887\"], [0.1111111111111111, \"#46039f\"], [0.2222222222222222, \"#7201a8\"], [0.3333333333333333, \"#9c179e\"], [0.4444444444444444, \"#bd3786\"], [0.5555555555555556, \"#d8576b\"], [0.6666666666666666, \"#ed7953\"], [0.7777777777777778, \"#fb9f3a\"], [0.8888888888888888, \"#fdca26\"], [1.0, \"#f0f921\"]]}, \"colorway\": [\"#636efa\", \"#EF553B\", \"#00cc96\", \"#ab63fa\", \"#FFA15A\", \"#19d3f3\", \"#FF6692\", \"#B6E880\", \"#FF97FF\", \"#FECB52\"], \"font\": {\"color\": \"#2a3f5f\"}, \"geo\": {\"bgcolor\": \"white\", \"lakecolor\": \"white\", \"landcolor\": \"#E5ECF6\", \"showlakes\": true, \"showland\": true, \"subunitcolor\": \"white\"}, \"hoverlabel\": {\"align\": \"left\"}, \"hovermode\": \"closest\", \"mapbox\": {\"style\": \"light\"}, \"paper_bgcolor\": \"white\", \"plot_bgcolor\": \"#E5ECF6\", \"polar\": {\"angularaxis\": {\"gridcolor\": \"white\", \"linecolor\": \"white\", \"ticks\": \"\"}, \"bgcolor\": \"#E5ECF6\", \"radialaxis\": {\"gridcolor\": \"white\", \"linecolor\": \"white\", \"ticks\": \"\"}}, \"scene\": {\"xaxis\": {\"backgroundcolor\": \"#E5ECF6\", \"gridcolor\": \"white\", \"gridwidth\": 2, \"linecolor\": \"white\", \"showbackground\": true, \"ticks\": \"\", \"zerolinecolor\": \"white\"}, \"yaxis\": {\"backgroundcolor\": \"#E5ECF6\", \"gridcolor\": \"white\", \"gridwidth\": 2, \"linecolor\": \"white\", \"showbackground\": true, \"ticks\": \"\", \"zerolinecolor\": \"white\"}, \"zaxis\": {\"backgroundcolor\": \"#E5ECF6\", \"gridcolor\": \"white\", \"gridwidth\": 2, \"linecolor\": \"white\", \"showbackground\": true, \"ticks\": \"\", \"zerolinecolor\": \"white\"}}, \"shapedefaults\": {\"line\": {\"color\": \"#2a3f5f\"}}, \"ternary\": {\"aaxis\": {\"gridcolor\": \"white\", \"linecolor\": \"white\", \"ticks\": \"\"}, \"baxis\": {\"gridcolor\": \"white\", \"linecolor\": \"white\", \"ticks\": \"\"}, \"bgcolor\": \"#E5ECF6\", \"caxis\": {\"gridcolor\": \"white\", \"linecolor\": \"white\", \"ticks\": \"\"}}, \"title\": {\"x\": 0.05}, \"xaxis\": {\"automargin\": true, \"gridcolor\": \"white\", \"linecolor\": \"white\", \"ticks\": \"\", \"title\": {\"standoff\": 15}, \"zerolinecolor\": \"white\", \"zerolinewidth\": 2}, \"yaxis\": {\"automargin\": true, \"gridcolor\": \"white\", \"linecolor\": \"white\", \"ticks\": \"\", \"title\": {\"standoff\": 15}, \"zerolinecolor\": \"white\", \"zerolinewidth\": 2}}}, \"xaxis\": {\"anchor\": \"y\", \"domain\": [0.0, 1.0], \"title\": {\"text\": \"columnas\"}}, \"yaxis\": {\"anchor\": \"x\", \"domain\": [0.0, 1.0], \"title\": {\"text\": \"% cambio en recall\"}}},\n",
       "                        {\"responsive\": true}\n",
       "                    ).then(function(){\n",
       "                            \n",
       "var gd = document.getElementById('d477f4f9-c43d-4a5b-b5f8-f1af157613d8');\n",
       "var x = new MutationObserver(function (mutations, observer) {{\n",
       "        var display = window.getComputedStyle(gd).display;\n",
       "        if (!display || display === 'none') {{\n",
       "            console.log([gd, 'removed!']);\n",
       "            Plotly.purge(gd);\n",
       "            observer.disconnect();\n",
       "        }}\n",
       "}});\n",
       "\n",
       "// Listen for the removal of the full notebook cells\n",
       "var notebookContainer = gd.closest('#notebook-container');\n",
       "if (notebookContainer) {{\n",
       "    x.observe(notebookContainer, {childList: true});\n",
       "}}\n",
       "\n",
       "// Listen for the clearing of the current output cell\n",
       "var outputEl = gd.closest('.output');\n",
       "if (outputEl) {{\n",
       "    x.observe(outputEl, {childList: true});\n",
       "}}\n",
       "\n",
       "                        })\n",
       "                };\n",
       "                });\n",
       "            </script>\n",
       "        </div>"
      ]
     },
     "metadata": {},
     "output_type": "display_data"
    }
   ],
   "source": [
    "px.bar(\n",
    "    pd.DataFrame.from_dict(percent_changes).melt().groupby(['variable']).mean().reset_index().sort_values(['value'], ascending=False)[:25], \n",
    "    x='variable', \n",
    "    y='value', \n",
    "    labels={\n",
    "        'variable':'columnas', \n",
    "        'value':'% cambio en recall'\n",
    "        }\n",
    "       )"
   ]
  },
  {
   "cell_type": "code",
   "execution_count": null,
   "metadata": {},
   "outputs": [],
   "source": []
  },
  {
   "cell_type": "markdown",
   "metadata": {},
   "source": [
    "# 6. Predicción con el modelo"
   ]
  },
  {
   "cell_type": "markdown",
   "metadata": {},
   "source": [
    "Una vez que el modelo está entrenado y se ha comprobado la fiabilidad del mismo, se procederá a realizar una predicción con datos sintéticos creados por nuestro sistema."
   ]
  },
  {
   "cell_type": "markdown",
   "metadata": {},
   "source": [
    "### 6.1 Creación del DataSet Sintético"
   ]
  },
  {
   "cell_type": "markdown",
   "metadata": {},
   "source": [
    "Se crean 100 registros"
   ]
  },
  {
   "cell_type": "code",
   "execution_count": 153,
   "metadata": {},
   "outputs": [],
   "source": [
    "#identificador\n",
    "id_sujeto = np.random.randint(150000,150100, size=(1000))\n",
    "df_pacientes = pd.DataFrame(id_sujeto, columns=['id_sujeto'])\n",
    "\n",
    "#genero\n",
    "genero = [\"Masculino\",\"Femenino\"]\n",
    "df_pacientes[\"genero\"] = np.random.choice(genero, 1000, p=[0.5, 0.5])\n",
    "\n",
    "#edad\n",
    "edad = [\"50-64\",\"65-69\",\"70-74\", \"75-79\",\"80-84\",\">85\"]\n",
    "df_pacientes[\"intervalo_edad\"] = np.random.choice(edad, 1000, p=[0.16, 0.16,0.16,0.16,0.16,0.2])\n",
    "\n",
    "def conditional_categories_edad(row):\n",
    "    if row['intervalo_edad'] == \"50-64\" :\n",
    "        return np.random.randint(50,64)\n",
    "    if row['intervalo_edad'] == \"65-69\":\n",
    "        return np.random.randint(65,69)\n",
    "    if row['intervalo_edad'] == \"70-74\":\n",
    "        return np.random.randint(70,74)\n",
    "    if row['intervalo_edad'] == \"75-79\":\n",
    "        return np.random.randint(75,79)\n",
    "    if row['intervalo_edad'] == \"80-84\":\n",
    "        return np.random.randint(80,84)\n",
    "    if row['intervalo_edad'] == \">85\" :\n",
    "        return np.random.randint(85,100)\n",
    "df_pacientes['edad']=df_pacientes.apply(conditional_categories_edad, axis=1)\n",
    "\n",
    "#estado civil\n",
    "estado_civil = [\"soltero\",\"casado\",\"divorciado\", \"viudo\"]\n",
    "df_pacientes[\"estado_civil\"] = np.random.choice(estado_civil, 1000, p=[0.25, 0.25,0.25,0.25])\n",
    "\n",
    "#numero_descendencia\n",
    "numero_descendientes = [\"0\",\"1\",\"2\",\"3\",\"4\",\"5\",\">5\"]\n",
    "df_pacientes[\"numero_descendientes\"] = np.random.choice(numero_descendientes, 1000, p=[0.1428, 0.1428, 0.1428, 0.1428, 0.1428, 0.1428, 0.1432 ])\n",
    "\n",
    "#actividad fisica \n",
    "actividad_fisica = [\"sedentaria\",\"ligera\",\"moderada\", \"intensa\",\"muy intensa\"]\n",
    "df_pacientes[\"actividad_fisica\"] = np.random.choice(actividad_fisica, 1000, p=[0.2, 0.2, 0.2, 0.2, 0.2])\n",
    "\n",
    "#calidad del sueño\n",
    "calidad_sueño = [\"trastornos_sueño\",\"baja\",\"media\",\"buena\"]\n",
    "df_pacientes[\"calidad_sueño\"] = np.random.choice(calidad_sueño, 1000, p=[0.25, 0.25, 0.25, 0.25])\n",
    "\n",
    "#calidad de la dieta\n",
    "calidad_dieta = [\"mind0-7\",\"mind7-9\",\"mind9-15\"]\n",
    "df_pacientes[\"calidad_dieta\"] = np.random.choice(calidad_dieta, 1000, p=[0.33, 0.33, 0.34])\n",
    "\n",
    "#fumador\n",
    "fumador = [\"no_fumador\", \"fumador_pasivo\", \"fumador_ocasional\", \"fumador_medio\", \"fumador_activo\", \"fumador_empedernido\"]\n",
    "df_pacientes[\"fumador\"] = np.random.choice(fumador, 1000, p=[0.16, 0.16, 0.16, 0.16, 0.16, 0.2])\n",
    "\n",
    "#bebedor\n",
    "bebedor = [\"abstemio\",\"bebedor_moderado\",\"bebedor_riesgo\"]\n",
    "df_pacientes[\"bebedor\"] = np.random.choice(bebedor, 1000, p=[0.33, 0.33, 0.34])\n",
    "\n",
    "#niveles_depresión\n",
    "niveles_depresión = [\"no_depresion\",\"depresion_leve\",\"depresion_moderada\",\"depresion_grave\"]\n",
    "df_pacientes[\"niveles_depresión\"] = np.random.choice(niveles_depresión, 1000, p=[0.25, 0.25, 0.25, 0.25])\n",
    "\n",
    "#niveles_ansiedad\n",
    "niveles_ansiedad = [\"no_ansiedad\",\"ansiedad_leve\",\"ansiedad_moderada\",\"ansiedad_alta\"]\n",
    "df_pacientes[\"niveles_ansiedad\"] = np.random.choice(niveles_ansiedad, 1000, p=[0.25, 0.25, 0.25, 0.25])\n",
    "\n",
    "#niveles_estres\n",
    "niveles_estres = [\"estres_bajo\", \"estres_medio\", \"estres_alto\"]\n",
    "df_pacientes[\"niveles_estres\"] = np.random.choice(niveles_estres, 1000, p=[0.33, 0.33, 0.34])\n",
    "\n",
    "#actividad_mental_ultimos_años\n",
    "actividad_mental_ultimos_años = [\"Si\",\"No\"]\n",
    "df_pacientes[\"actividad_mental_ultimos_años\"] = np.random.choice(actividad_mental_ultimos_años, 1000, p=[0.5,0.5])\n",
    "\n",
    "#actividad_fisica_ultimos_años\n",
    "df_pacientes[\"actividad_fisica_ultimos_años\"] = np.random.choice(actividad_fisica, 1000, p=[0.2, 0.2, 0.2, 0.2, 0.2])\n",
    "\n",
    "#numero_idiomas\n",
    "numero_idiomas = [\"1\",\"2\",\">=3\"]\n",
    "df_pacientes[\"numero_idiomas\"] = np.random.choice(numero_idiomas, 1000, p=[0.33, 0.33, 0.34])\n",
    "\n",
    "#niveles_vitamina_b12\n",
    "niveles_vitamina_b12 = [\"bajos\",\"normales\",\"altos\"]\n",
    "df_pacientes[\"niveles_vitamina_b12\"] = np.random.choice(niveles_vitamina_b12, 1000, p=[0.33, 0.33, 0.34])\n",
    "\n",
    "#antecedentes_familiares_1Grado\n",
    "antecedentes_familiares_1Grado = [\"Si\",\"No\"]\n",
    "df_pacientes[\"antecedentes_familiares_1Grado\"] = np.random.choice(antecedentes_familiares_1Grado, 1000, p=[0.5,0.5])\n",
    "\n",
    "#antecedentes_familiares_2Grado\n",
    "antecedentes_familiares_2Grado = [\"Si\",\"No\"]\n",
    "df_pacientes[\"antecedentes_familiares_2Grado\"] = np.random.choice(antecedentes_familiares_2Grado, 1000, p=[0.5,0.5])\n",
    "\n",
    "#antecedentes_familiares_3Grado\n",
    "antecedentes_familiares_3Grado = [\"Si\",\"No\"]\n",
    "df_pacientes[\"antecedentes_familiares_3Grado\"] = np.random.choice(antecedentes_familiares_3Grado, 1000, p=[0.5,0.5])\n",
    "\n",
    "#genetica\n",
    "genetica = [\"Si\",\"No\"]\n",
    "df_pacientes[\"genetica\"] = np.random.choice(genetica, 1000, p=[0.5,0.5])\n",
    "\n",
    "#deportes_realizados\n",
    "deportes_realizados = [\"deportes_equipo\",\"deportes_individuales\",\"deportes_fuerza\",\"deportes_extremos\",\"deportes_contacto\"]\n",
    "df_pacientes[\"deportes_realizados\"] = np.random.choice(deportes_realizados, 1000, p=[0.2, 0.2, 0.2, 0.2, 0.2])\n",
    "\n",
    "#cardiopatias\n",
    "cardiopatias = [\"Si\",\"No\"]\n",
    "df_pacientes[\"cardiopatias\"] = np.random.choice(cardiopatias, 1000, p=[0.5,0.5])\n",
    "\n",
    "#diabetes\n",
    "diabetes = [\"Si\",\"No\"]\n",
    "df_pacientes[\"diabetes\"] = np.random.choice(diabetes, 1000, p=[0.5,0.5])\n",
    "\n",
    "#hipertension\n",
    "hipertension = [\"Si\",\"No\"]\n",
    "df_pacientes[\"hipertension\"] = np.random.choice(hipertension, 1000, p=[0.5,0.5])\n",
    "\n",
    "#colesterol\n",
    "colesterol = [\"Adecuado\",\"No_Adecuado\"]\n",
    "df_pacientes[\"colesterol\"] = np.random.choice(colesterol, 1000, p=[0.5,0.5])\n",
    "\n",
    "#actividad_creativa\n",
    "actividad_creativa = [\"pintura\", \"escritura\", \"musica\", \"escultura\", \"otras\", \"ninguna\"]\n",
    "df_pacientes[\"actividad_creativa\"] = np.random.choice(actividad_creativa, 1000, p=[0.16, 0.16,0.16,0.16,0.16,0.2])\n",
    "\n",
    "#mano_dominante\n",
    "mano_dominante = [\"diestro\",\"zurdo\",\"ambidiestro\"]\n",
    "df_pacientes[\"mano_dominante\"] = np.random.choice(mano_dominante, 1000, p=[0.33, 0.33, 0.34])\n",
    "\n",
    "#edad_jubilacon\n",
    "def conditional_categories_edad_jubilacion(row):\n",
    "    if row['intervalo_edad'] == \"50-64\" :\n",
    "        return np.random.randint(50,64)\n",
    "    if row['intervalo_edad'] == \"65-69\":\n",
    "        return np.random.randint(65,69)\n",
    "    if row['intervalo_edad'] == \"70-74\":\n",
    "        return np.random.randint(70,74)\n",
    "    if row['intervalo_edad'] == \"75-79\":\n",
    "        return np.random.randint(75,79)\n",
    "    if row['intervalo_edad'] == \"80-84\":\n",
    "        return np.random.randint(80,84)\n",
    "    if row['intervalo_edad'] == \">85\" :\n",
    "        return np.random.randint(85,100)\n",
    "df_pacientes['edad_jubilacion']=df_pacientes.apply(conditional_categories_edad_jubilacion, axis=1)\n",
    "\n",
    "\n",
    "#socialmente_activo\n",
    "socialmente_activo = [\"Si\",\"No\"]\n",
    "df_pacientes[\"socialmente_activo\"] = np.random.choice(socialmente_activo, 1000, p=[0.5, 0.5])\n",
    "\n",
    "#soledad\n",
    "soledad = [\"Si\",\"No\"]\n",
    "df_pacientes[\"soledad\"] = np.random.choice(soledad, 1000, p=[0.5, 0.5])\n",
    "\n",
    "#nacionalidad\n",
    "nacionalidad = [\"Espana\",\"Polonia\",\"Rumania\",\"Venezuela\",\"Colombia\",\"Ecuador\",\"Inglaterra\",\"China\",\"Japon\",\"Francia\"]\n",
    "df_pacientes[\"nacionalidad\"] = np.random.choice(nacionalidad, 1000, p=[0.1 ,0.1 ,0.1 ,0.1 ,0.1 ,0.1 ,0.1 ,0.1 ,0.1 ,0.1 ])\n",
    "\n",
    "#continente\n",
    "def conditional_categories_continente(row):\n",
    "    if row['nacionalidad'] == \"Espana\" :\n",
    "        return 'Europa'\n",
    "    if row['nacionalidad'] == \"Polonia\":\n",
    "        return 'Europa'\n",
    "    if row['nacionalidad'] == \"Rumania\" :\n",
    "        return 'Europa'\n",
    "    if row['nacionalidad'] == \"Venezuela\" :\n",
    "        return 'America del sur'\n",
    "    if row['nacionalidad'] == \"Colombia\" :\n",
    "        return 'America del sur'\n",
    "    if row['nacionalidad'] == \"Ecuador\" :\n",
    "        return 'America del sur'\n",
    "    if row['nacionalidad'] == \"Inglaterra\" :\n",
    "        return 'Europa'\n",
    "    if row['nacionalidad'] == \"China\" :\n",
    "        return 'Asia'\n",
    "    if row['nacionalidad'] == \"Japon\" :\n",
    "        return 'Asia'\n",
    "    if row['nacionalidad'] == \"Francia\" :\n",
    "        return 'Europa'\n",
    "\n",
    "df_pacientes['continente']=df_pacientes.apply(conditional_categories_continente, axis=1)\n",
    "\n",
    "#idioma_nativo\n",
    "idioma_nativo = [\"Espanol\",\"Polaco\",\"Rumano\",\"Ingles\",\"Chino\",\"Japones\",\"Frances\"]\n",
    "def conditional_categories_idioma_nativo(row):\n",
    "    if row['nacionalidad'] == \"Espana\":\n",
    "        return np.random.choice([\"Español\",\"Polaco\",\"Rumano\",\"Inglés\", \"Chino\"], \n",
    "                                p=[0.7, 0.05, 0.15, 0.01, 0.09])\n",
    "    if row['nacionalidad'] == \"Venezuela\":\n",
    "        return np.random.choice([\"Español\",\"Inglés\"], \n",
    "                                p=[0.8, 0.2])\n",
    "    if row['nacionalidad'] == \"Colombia\":\n",
    "        return np.random.choice([\"Español\",\"Inglés\"], \n",
    "                                p=[0.8, 0.2])\n",
    "    if row['nacionalidad'] == \"Ecuador\":\n",
    "        return np.random.choice([\"Español\",\"Inglés\"], \n",
    "                                p=[0.8, 0.2])\n",
    "    if row['nacionalidad'] == \"Inglaterra\":\n",
    "        return np.random.choice([\"Español\",\"Polaco\",\"Rumano\",\"Inglés\",\"Chino\",\"Japones\",\n",
    "                \"Frances\"], p=[0.075, 0.1, 0.05, 0.72, 0.029, 0.001, 0.025])  \n",
    "    if row['nacionalidad'] == \"Polonia\":\n",
    "        return np.random.choice([\"Polaco\",\"Español\",\"Inglés\"], \n",
    "                                p=[0.8, 0.1, 0.1])\n",
    "    if row['nacionalidad'] == \"Rumania\":\n",
    "        return np.random.choice([\"Rumano\",\"Español\",\"Inglés\"], \n",
    "                                p=[0.8, 0.1, 0.1])\n",
    "    if row['nacionalidad'] == \"China\":\n",
    "        return np.random.choice([\"Chino\",\"Español\",\"Inglés\", \"Japones\"], \n",
    "                                p=[0.7, 0.1, 0.1, 0.1])\n",
    "    if row['nacionalidad'] == \"Japon\":\n",
    "        return np.random.choice([\"Japones\",\"Chino\",\"Inglés\"], \n",
    "                                p=[0.8, 0.1, 0.1])\n",
    "    if row['nacionalidad'] == \"Francia\":\n",
    "        return np.random.choice([\"Frances\",\"Español\",\"Inglés\"], \n",
    "                                p=[0.8, 0.1, 0.1])\n",
    "    \n",
    "df_pacientes['idioma_nativo']=df_pacientes.apply(conditional_categories_idioma_nativo, axis=1)\n",
    "\n",
    "#vegetariano\n",
    "vegetariano = [\"Si\",\"No\"]\n",
    "df_pacientes[\"vegetariano\"] = np.random.choice(hipertension, 1000, p=[0.5,0.5])\n",
    "\n",
    "#vegano\n",
    "vegano = [\"Si\",\"No\"]\n",
    "df_pacientes[\"vegano\"] = np.random.choice(vegano, 1000, p=[0.5,0.5])\n",
    "\n",
    "#lesiones_cabeza\n",
    "lesiones_cabeza = [\"Si\",\"No\"]\n",
    "df_pacientes[\"lesiones_cabeza\"] = np.random.choice(lesiones_cabeza, 1000, p=[0.5,0.5])\n",
    "\n",
    "#tipo_adiccion\n",
    "tipo_adiccion = [\"Cocaina\", \"Marihuana\", \"Anfetaminas\", \"Benzodiacepinas\", \"Ninguna\"]\n",
    "df_pacientes[\"tipo_adiccion\"] = np.random.choice(tipo_adiccion, 1000, p=[0.01,0.01, 0.01, 0.01, 0.96])\n",
    "\n",
    "#sobrepeso\n",
    "sobrepeso = [\"Si\",\"No\"]\n",
    "df_pacientes[\"sobrepeso\"] = np.random.choice(sobrepeso, 1000, p=[0.5,0.5])\n",
    "\n",
    "#obesidad\n",
    "obesidad = [\"Si\",\"No\"]\n",
    "df_pacientes[\"obesidad\"] = np.random.choice(obesidad, 1000, p=[0.5,0.5])\n",
    "\n",
    "#nivel_educativo\n",
    "nivel_educativo = [\"bajo\",\"bajo-medio\",\"medio\",\"alto-medio\",\"alto\"]\n",
    "df_pacientes[\"nivel_educativo\"] = np.random.choice(nivel_educativo, 1000, p=[0.2,0.2, 0.2, 0.2, 0.2])\n",
    "\n",
    "#empleo_realizado\n",
    "empleo_realizado = [\"mecanico\",\"manual\",\"intelectual\",\"investigacion\"]\n",
    "df_pacientes[\"empleo_realizado\"] = np.random.choice(empleo_realizado, 1000, p=[0.25,0.25, 0.25, 0.25])\n",
    "\n",
    "#alzheimer\n",
    "alzheimer = [\"Si\",\"No\"]\n",
    "df_pacientes[\"alzheimer\"] = np.random.choice(alzheimer, 1000, p=[0.5, 0.5])"
   ]
  },
  {
   "cell_type": "code",
   "execution_count": 154,
   "metadata": {},
   "outputs": [
    {
     "data": {
      "text/plain": [
       "(1000, 44)"
      ]
     },
     "execution_count": 154,
     "metadata": {},
     "output_type": "execute_result"
    }
   ],
   "source": [
    "df_pacientes.shape"
   ]
  },
  {
   "cell_type": "code",
   "execution_count": null,
   "metadata": {},
   "outputs": [],
   "source": []
  },
  {
   "cell_type": "markdown",
   "metadata": {},
   "source": [
    "### 6.2. Generación de predicciones"
   ]
  },
  {
   "cell_type": "code",
   "execution_count": 155,
   "metadata": {},
   "outputs": [
    {
     "data": {
      "text/html": [
       "<div>\n",
       "<style scoped>\n",
       "    .dataframe tbody tr th:only-of-type {\n",
       "        vertical-align: middle;\n",
       "    }\n",
       "\n",
       "    .dataframe tbody tr th {\n",
       "        vertical-align: top;\n",
       "    }\n",
       "\n",
       "    .dataframe thead th {\n",
       "        text-align: right;\n",
       "    }\n",
       "</style>\n",
       "<table border=\"1\" class=\"dataframe\">\n",
       "  <thead>\n",
       "    <tr style=\"text-align: right;\">\n",
       "      <th></th>\n",
       "      <th>id_sujeto</th>\n",
       "      <th>genero</th>\n",
       "      <th>intervalo_edad</th>\n",
       "      <th>edad</th>\n",
       "      <th>estado_civil</th>\n",
       "      <th>numero_descendientes</th>\n",
       "      <th>actividad_fisica</th>\n",
       "      <th>calidad_sueño</th>\n",
       "      <th>calidad_dieta</th>\n",
       "      <th>fumador</th>\n",
       "      <th>...</th>\n",
       "      <th>idioma_nativo</th>\n",
       "      <th>vegetariano</th>\n",
       "      <th>vegano</th>\n",
       "      <th>lesiones_cabeza</th>\n",
       "      <th>tipo_adiccion</th>\n",
       "      <th>sobrepeso</th>\n",
       "      <th>obesidad</th>\n",
       "      <th>nivel_educativo</th>\n",
       "      <th>empleo_realizado</th>\n",
       "      <th>alzheimer</th>\n",
       "    </tr>\n",
       "  </thead>\n",
       "  <tbody>\n",
       "    <tr>\n",
       "      <th>0</th>\n",
       "      <td>150007</td>\n",
       "      <td>Femenino</td>\n",
       "      <td>&gt;85</td>\n",
       "      <td>89</td>\n",
       "      <td>divorciado</td>\n",
       "      <td>5</td>\n",
       "      <td>moderada</td>\n",
       "      <td>baja</td>\n",
       "      <td>mind9-15</td>\n",
       "      <td>fumador_activo</td>\n",
       "      <td>...</td>\n",
       "      <td>Inglés</td>\n",
       "      <td>Si</td>\n",
       "      <td>No</td>\n",
       "      <td>Si</td>\n",
       "      <td>Ninguna</td>\n",
       "      <td>No</td>\n",
       "      <td>No</td>\n",
       "      <td>bajo</td>\n",
       "      <td>manual</td>\n",
       "      <td>1</td>\n",
       "    </tr>\n",
       "    <tr>\n",
       "      <th>1</th>\n",
       "      <td>150001</td>\n",
       "      <td>Masculino</td>\n",
       "      <td>80-84</td>\n",
       "      <td>81</td>\n",
       "      <td>casado</td>\n",
       "      <td>0</td>\n",
       "      <td>muy intensa</td>\n",
       "      <td>media</td>\n",
       "      <td>mind7-9</td>\n",
       "      <td>fumador_activo</td>\n",
       "      <td>...</td>\n",
       "      <td>Inglés</td>\n",
       "      <td>Si</td>\n",
       "      <td>Si</td>\n",
       "      <td>No</td>\n",
       "      <td>Ninguna</td>\n",
       "      <td>No</td>\n",
       "      <td>No</td>\n",
       "      <td>alto</td>\n",
       "      <td>investigacion</td>\n",
       "      <td>1</td>\n",
       "    </tr>\n",
       "    <tr>\n",
       "      <th>2</th>\n",
       "      <td>150075</td>\n",
       "      <td>Femenino</td>\n",
       "      <td>80-84</td>\n",
       "      <td>82</td>\n",
       "      <td>casado</td>\n",
       "      <td>4</td>\n",
       "      <td>moderada</td>\n",
       "      <td>media</td>\n",
       "      <td>mind7-9</td>\n",
       "      <td>fumador_ocasional</td>\n",
       "      <td>...</td>\n",
       "      <td>Español</td>\n",
       "      <td>No</td>\n",
       "      <td>No</td>\n",
       "      <td>Si</td>\n",
       "      <td>Ninguna</td>\n",
       "      <td>Si</td>\n",
       "      <td>No</td>\n",
       "      <td>alto</td>\n",
       "      <td>investigacion</td>\n",
       "      <td>1</td>\n",
       "    </tr>\n",
       "    <tr>\n",
       "      <th>3</th>\n",
       "      <td>150011</td>\n",
       "      <td>Femenino</td>\n",
       "      <td>50-64</td>\n",
       "      <td>53</td>\n",
       "      <td>casado</td>\n",
       "      <td>4</td>\n",
       "      <td>muy intensa</td>\n",
       "      <td>media</td>\n",
       "      <td>mind0-7</td>\n",
       "      <td>no_fumador</td>\n",
       "      <td>...</td>\n",
       "      <td>Polaco</td>\n",
       "      <td>Si</td>\n",
       "      <td>No</td>\n",
       "      <td>Si</td>\n",
       "      <td>Ninguna</td>\n",
       "      <td>No</td>\n",
       "      <td>Si</td>\n",
       "      <td>alto</td>\n",
       "      <td>investigacion</td>\n",
       "      <td>1</td>\n",
       "    </tr>\n",
       "    <tr>\n",
       "      <th>4</th>\n",
       "      <td>150035</td>\n",
       "      <td>Masculino</td>\n",
       "      <td>80-84</td>\n",
       "      <td>83</td>\n",
       "      <td>divorciado</td>\n",
       "      <td>3</td>\n",
       "      <td>sedentaria</td>\n",
       "      <td>baja</td>\n",
       "      <td>mind9-15</td>\n",
       "      <td>fumador_pasivo</td>\n",
       "      <td>...</td>\n",
       "      <td>Chino</td>\n",
       "      <td>No</td>\n",
       "      <td>Si</td>\n",
       "      <td>No</td>\n",
       "      <td>Ninguna</td>\n",
       "      <td>No</td>\n",
       "      <td>Si</td>\n",
       "      <td>medio</td>\n",
       "      <td>manual</td>\n",
       "      <td>0</td>\n",
       "    </tr>\n",
       "  </tbody>\n",
       "</table>\n",
       "<p>5 rows × 44 columns</p>\n",
       "</div>"
      ],
      "text/plain": [
       "   id_sujeto     genero intervalo_edad  edad estado_civil  \\\n",
       "0     150007   Femenino            >85    89   divorciado   \n",
       "1     150001  Masculino          80-84    81       casado   \n",
       "2     150075   Femenino          80-84    82       casado   \n",
       "3     150011   Femenino          50-64    53       casado   \n",
       "4     150035  Masculino          80-84    83   divorciado   \n",
       "\n",
       "  numero_descendientes actividad_fisica calidad_sueño calidad_dieta  \\\n",
       "0                    5         moderada          baja      mind9-15   \n",
       "1                    0      muy intensa         media       mind7-9   \n",
       "2                    4         moderada         media       mind7-9   \n",
       "3                    4      muy intensa         media       mind0-7   \n",
       "4                    3       sedentaria          baja      mind9-15   \n",
       "\n",
       "             fumador  ... idioma_nativo vegetariano vegano lesiones_cabeza  \\\n",
       "0     fumador_activo  ...        Inglés          Si     No              Si   \n",
       "1     fumador_activo  ...        Inglés          Si     Si              No   \n",
       "2  fumador_ocasional  ...       Español          No     No              Si   \n",
       "3         no_fumador  ...        Polaco          Si     No              Si   \n",
       "4     fumador_pasivo  ...         Chino          No     Si              No   \n",
       "\n",
       "  tipo_adiccion sobrepeso obesidad nivel_educativo empleo_realizado alzheimer  \n",
       "0       Ninguna        No       No            bajo           manual         1  \n",
       "1       Ninguna        No       No            alto    investigacion         1  \n",
       "2       Ninguna        Si       No            alto    investigacion         1  \n",
       "3       Ninguna        No       Si            alto    investigacion         1  \n",
       "4       Ninguna        No       Si           medio           manual         0  \n",
       "\n",
       "[5 rows x 44 columns]"
      ]
     },
     "execution_count": 155,
     "metadata": {},
     "output_type": "execute_result"
    }
   ],
   "source": [
    "df_pacientes[\"alzheimer\"] = df_pacientes[\"alzheimer\"].apply(lambda x : 1 if x == \"Si\" else 0)\n",
    "df_pacientes.head()"
   ]
  },
  {
   "cell_type": "code",
   "execution_count": 156,
   "metadata": {},
   "outputs": [],
   "source": [
    "df_num = df_pacientes[[\"id_sujeto\",\"alzheimer\",\"edad\", \"edad_jubilacion\"]]\n",
    "df_cat = df_pacientes.drop(columns=df_num.columns)\n",
    "df_test = df_cat\n",
    "df_dummies = pd.get_dummies(df_cat, columns=df_cat.columns)\n",
    "df_result = pd.concat([df_dummies, df_num], axis=1, sort=False).drop(columns=[\"id_sujeto\",\"alzheimer\"])"
   ]
  },
  {
   "cell_type": "code",
   "execution_count": 157,
   "metadata": {},
   "outputs": [],
   "source": [
    "new_input = df_result.iloc[560:580]"
   ]
  },
  {
   "cell_type": "code",
   "execution_count": 158,
   "metadata": {},
   "outputs": [
    {
     "data": {
      "text/plain": [
       "(20, 144)"
      ]
     },
     "execution_count": 158,
     "metadata": {},
     "output_type": "execute_result"
    }
   ],
   "source": [
    "new_input.shape"
   ]
  },
  {
   "cell_type": "code",
   "execution_count": 159,
   "metadata": {
    "scrolled": true
   },
   "outputs": [
    {
     "data": {
      "text/plain": [
       "array([0, 0, 0, 0, 1, 0, 0, 0, 0, 1, 0, 0, 0, 0, 0, 0, 0, 0, 0, 0])"
      ]
     },
     "execution_count": 159,
     "metadata": {},
     "output_type": "execute_result"
    }
   ],
   "source": [
    "new_output = clf.predict(new_input)\n",
    "new_output"
   ]
  },
  {
   "cell_type": "code",
   "execution_count": 160,
   "metadata": {
    "scrolled": true
   },
   "outputs": [
    {
     "data": {
      "text/plain": [
       "array([2.09896310e-01, 2.14091806e-01, 7.08352303e-04, 6.44886735e-03,\n",
       "       1.11953923e-01, 1.16336170e-01, 4.76889177e-04, 3.52657517e-02,\n",
       "       1.10877551e-02, 5.27147911e-01, 7.42079436e-01, 4.29020917e-01,\n",
       "       3.86488394e-01, 1.23347772e-03, 4.17239599e-04, 5.32177472e-04,\n",
       "       6.45038967e-04, 5.46390125e-03, 2.76774707e-02, 1.62002379e-02])"
      ]
     },
     "execution_count": 160,
     "metadata": {},
     "output_type": "execute_result"
    }
   ],
   "source": [
    "DefaultProba = lr.predict_proba(new_input)\n",
    "DefaultProba = DefaultProba[:,1]\n",
    "DefaultProba"
   ]
  },
  {
   "cell_type": "code",
   "execution_count": 161,
   "metadata": {},
   "outputs": [
    {
     "data": {
      "image/png": "[encoded data removed]",
      "text/plain": [
       "<Figure size 432x288 with 1 Axes>"
      ]
     },
     "metadata": {
      "needs_background": "light"
     },
     "output_type": "display_data"
    }
   ],
   "source": [
    "a = DefaultProba \n",
    "plt.hist(a) \n",
    "plt.title(\"histogram\") \n",
    "plt.show()"
   ]
  },
  {
   "cell_type": "code",
   "execution_count": 162,
   "metadata": {},
   "outputs": [],
   "source": [
    "df_full = df_pacientes.iloc[560:580].copy().drop(columns=\"alzheimer\")\n",
    "df_full.insert(0, 'Probabilidad de Alzheimer', DefaultProba)"
   ]
  },
  {
   "cell_type": "code",
   "execution_count": 163,
   "metadata": {
    "scrolled": true
   },
   "outputs": [],
   "source": [
    "df_full['Probabilidad de Alzheimer'] = df_full['Probabilidad de Alzheimer'].apply(lambda x: x*100)"
   ]
  },
  {
   "cell_type": "code",
   "execution_count": 164,
   "metadata": {
    "scrolled": false
   },
   "outputs": [
    {
     "data": {
      "text/html": [
       "<div>\n",
       "<style scoped>\n",
       "    .dataframe tbody tr th:only-of-type {\n",
       "        vertical-align: middle;\n",
       "    }\n",
       "\n",
       "    .dataframe tbody tr th {\n",
       "        vertical-align: top;\n",
       "    }\n",
       "\n",
       "    .dataframe thead th {\n",
       "        text-align: right;\n",
       "    }\n",
       "</style>\n",
       "<table border=\"1\" class=\"dataframe\">\n",
       "  <thead>\n",
       "    <tr style=\"text-align: right;\">\n",
       "      <th></th>\n",
       "      <th>Probabilidad de Alzheimer</th>\n",
       "      <th>id_sujeto</th>\n",
       "      <th>genero</th>\n",
       "      <th>intervalo_edad</th>\n",
       "      <th>edad</th>\n",
       "      <th>estado_civil</th>\n",
       "      <th>numero_descendientes</th>\n",
       "      <th>actividad_fisica</th>\n",
       "      <th>calidad_sueño</th>\n",
       "      <th>calidad_dieta</th>\n",
       "      <th>...</th>\n",
       "      <th>continente</th>\n",
       "      <th>idioma_nativo</th>\n",
       "      <th>vegetariano</th>\n",
       "      <th>vegano</th>\n",
       "      <th>lesiones_cabeza</th>\n",
       "      <th>tipo_adiccion</th>\n",
       "      <th>sobrepeso</th>\n",
       "      <th>obesidad</th>\n",
       "      <th>nivel_educativo</th>\n",
       "      <th>empleo_realizado</th>\n",
       "    </tr>\n",
       "  </thead>\n",
       "  <tbody>\n",
       "    <tr>\n",
       "      <th>560</th>\n",
       "      <td>20.989631</td>\n",
       "      <td>150010</td>\n",
       "      <td>Masculino</td>\n",
       "      <td>65-69</td>\n",
       "      <td>68</td>\n",
       "      <td>viudo</td>\n",
       "      <td>5</td>\n",
       "      <td>moderada</td>\n",
       "      <td>media</td>\n",
       "      <td>mind9-15</td>\n",
       "      <td>...</td>\n",
       "      <td>Europa</td>\n",
       "      <td>Español</td>\n",
       "      <td>Si</td>\n",
       "      <td>No</td>\n",
       "      <td>Si</td>\n",
       "      <td>Ninguna</td>\n",
       "      <td>Si</td>\n",
       "      <td>Si</td>\n",
       "      <td>alto-medio</td>\n",
       "      <td>manual</td>\n",
       "    </tr>\n",
       "    <tr>\n",
       "      <th>561</th>\n",
       "      <td>21.409181</td>\n",
       "      <td>150061</td>\n",
       "      <td>Masculino</td>\n",
       "      <td>&gt;85</td>\n",
       "      <td>96</td>\n",
       "      <td>soltero</td>\n",
       "      <td>2</td>\n",
       "      <td>moderada</td>\n",
       "      <td>buena</td>\n",
       "      <td>mind9-15</td>\n",
       "      <td>...</td>\n",
       "      <td>Asia</td>\n",
       "      <td>Chino</td>\n",
       "      <td>No</td>\n",
       "      <td>Si</td>\n",
       "      <td>No</td>\n",
       "      <td>Ninguna</td>\n",
       "      <td>Si</td>\n",
       "      <td>Si</td>\n",
       "      <td>bajo</td>\n",
       "      <td>mecanico</td>\n",
       "    </tr>\n",
       "    <tr>\n",
       "      <th>562</th>\n",
       "      <td>0.070835</td>\n",
       "      <td>150056</td>\n",
       "      <td>Masculino</td>\n",
       "      <td>&gt;85</td>\n",
       "      <td>99</td>\n",
       "      <td>viudo</td>\n",
       "      <td>3</td>\n",
       "      <td>moderada</td>\n",
       "      <td>baja</td>\n",
       "      <td>mind9-15</td>\n",
       "      <td>...</td>\n",
       "      <td>Asia</td>\n",
       "      <td>Japones</td>\n",
       "      <td>Si</td>\n",
       "      <td>No</td>\n",
       "      <td>No</td>\n",
       "      <td>Ninguna</td>\n",
       "      <td>No</td>\n",
       "      <td>No</td>\n",
       "      <td>medio</td>\n",
       "      <td>intelectual</td>\n",
       "    </tr>\n",
       "    <tr>\n",
       "      <th>563</th>\n",
       "      <td>0.644887</td>\n",
       "      <td>150054</td>\n",
       "      <td>Masculino</td>\n",
       "      <td>70-74</td>\n",
       "      <td>70</td>\n",
       "      <td>soltero</td>\n",
       "      <td>0</td>\n",
       "      <td>moderada</td>\n",
       "      <td>baja</td>\n",
       "      <td>mind0-7</td>\n",
       "      <td>...</td>\n",
       "      <td>America del sur</td>\n",
       "      <td>Español</td>\n",
       "      <td>No</td>\n",
       "      <td>No</td>\n",
       "      <td>Si</td>\n",
       "      <td>Ninguna</td>\n",
       "      <td>Si</td>\n",
       "      <td>No</td>\n",
       "      <td>alto</td>\n",
       "      <td>intelectual</td>\n",
       "    </tr>\n",
       "    <tr>\n",
       "      <th>564</th>\n",
       "      <td>11.195392</td>\n",
       "      <td>150094</td>\n",
       "      <td>Masculino</td>\n",
       "      <td>75-79</td>\n",
       "      <td>77</td>\n",
       "      <td>divorciado</td>\n",
       "      <td>5</td>\n",
       "      <td>ligera</td>\n",
       "      <td>media</td>\n",
       "      <td>mind0-7</td>\n",
       "      <td>...</td>\n",
       "      <td>Asia</td>\n",
       "      <td>Japones</td>\n",
       "      <td>Si</td>\n",
       "      <td>Si</td>\n",
       "      <td>Si</td>\n",
       "      <td>Anfetaminas</td>\n",
       "      <td>No</td>\n",
       "      <td>Si</td>\n",
       "      <td>medio</td>\n",
       "      <td>mecanico</td>\n",
       "    </tr>\n",
       "    <tr>\n",
       "      <th>565</th>\n",
       "      <td>11.633617</td>\n",
       "      <td>150065</td>\n",
       "      <td>Femenino</td>\n",
       "      <td>70-74</td>\n",
       "      <td>72</td>\n",
       "      <td>divorciado</td>\n",
       "      <td>2</td>\n",
       "      <td>ligera</td>\n",
       "      <td>baja</td>\n",
       "      <td>mind0-7</td>\n",
       "      <td>...</td>\n",
       "      <td>Europa</td>\n",
       "      <td>Rumano</td>\n",
       "      <td>Si</td>\n",
       "      <td>No</td>\n",
       "      <td>No</td>\n",
       "      <td>Ninguna</td>\n",
       "      <td>Si</td>\n",
       "      <td>No</td>\n",
       "      <td>bajo-medio</td>\n",
       "      <td>manual</td>\n",
       "    </tr>\n",
       "    <tr>\n",
       "      <th>566</th>\n",
       "      <td>0.047689</td>\n",
       "      <td>150041</td>\n",
       "      <td>Femenino</td>\n",
       "      <td>65-69</td>\n",
       "      <td>68</td>\n",
       "      <td>soltero</td>\n",
       "      <td>5</td>\n",
       "      <td>intensa</td>\n",
       "      <td>buena</td>\n",
       "      <td>mind9-15</td>\n",
       "      <td>...</td>\n",
       "      <td>Asia</td>\n",
       "      <td>Japones</td>\n",
       "      <td>Si</td>\n",
       "      <td>Si</td>\n",
       "      <td>Si</td>\n",
       "      <td>Ninguna</td>\n",
       "      <td>No</td>\n",
       "      <td>No</td>\n",
       "      <td>alto</td>\n",
       "      <td>manual</td>\n",
       "    </tr>\n",
       "    <tr>\n",
       "      <th>567</th>\n",
       "      <td>3.526575</td>\n",
       "      <td>150023</td>\n",
       "      <td>Femenino</td>\n",
       "      <td>65-69</td>\n",
       "      <td>67</td>\n",
       "      <td>casado</td>\n",
       "      <td>&gt;5</td>\n",
       "      <td>ligera</td>\n",
       "      <td>buena</td>\n",
       "      <td>mind0-7</td>\n",
       "      <td>...</td>\n",
       "      <td>Asia</td>\n",
       "      <td>Japones</td>\n",
       "      <td>Si</td>\n",
       "      <td>Si</td>\n",
       "      <td>Si</td>\n",
       "      <td>Benzodiacepinas</td>\n",
       "      <td>Si</td>\n",
       "      <td>Si</td>\n",
       "      <td>bajo-medio</td>\n",
       "      <td>intelectual</td>\n",
       "    </tr>\n",
       "    <tr>\n",
       "      <th>568</th>\n",
       "      <td>1.108776</td>\n",
       "      <td>150061</td>\n",
       "      <td>Femenino</td>\n",
       "      <td>50-64</td>\n",
       "      <td>55</td>\n",
       "      <td>soltero</td>\n",
       "      <td>1</td>\n",
       "      <td>sedentaria</td>\n",
       "      <td>baja</td>\n",
       "      <td>mind0-7</td>\n",
       "      <td>...</td>\n",
       "      <td>Europa</td>\n",
       "      <td>Español</td>\n",
       "      <td>Si</td>\n",
       "      <td>Si</td>\n",
       "      <td>Si</td>\n",
       "      <td>Ninguna</td>\n",
       "      <td>Si</td>\n",
       "      <td>Si</td>\n",
       "      <td>bajo</td>\n",
       "      <td>intelectual</td>\n",
       "    </tr>\n",
       "    <tr>\n",
       "      <th>569</th>\n",
       "      <td>52.714791</td>\n",
       "      <td>150014</td>\n",
       "      <td>Femenino</td>\n",
       "      <td>80-84</td>\n",
       "      <td>83</td>\n",
       "      <td>divorciado</td>\n",
       "      <td>0</td>\n",
       "      <td>ligera</td>\n",
       "      <td>buena</td>\n",
       "      <td>mind7-9</td>\n",
       "      <td>...</td>\n",
       "      <td>Europa</td>\n",
       "      <td>Inglés</td>\n",
       "      <td>Si</td>\n",
       "      <td>No</td>\n",
       "      <td>Si</td>\n",
       "      <td>Ninguna</td>\n",
       "      <td>No</td>\n",
       "      <td>No</td>\n",
       "      <td>alto-medio</td>\n",
       "      <td>mecanico</td>\n",
       "    </tr>\n",
       "    <tr>\n",
       "      <th>570</th>\n",
       "      <td>74.207944</td>\n",
       "      <td>150000</td>\n",
       "      <td>Femenino</td>\n",
       "      <td>&gt;85</td>\n",
       "      <td>90</td>\n",
       "      <td>divorciado</td>\n",
       "      <td>5</td>\n",
       "      <td>ligera</td>\n",
       "      <td>baja</td>\n",
       "      <td>mind7-9</td>\n",
       "      <td>...</td>\n",
       "      <td>Europa</td>\n",
       "      <td>Rumano</td>\n",
       "      <td>Si</td>\n",
       "      <td>No</td>\n",
       "      <td>Si</td>\n",
       "      <td>Ninguna</td>\n",
       "      <td>Si</td>\n",
       "      <td>Si</td>\n",
       "      <td>medio</td>\n",
       "      <td>intelectual</td>\n",
       "    </tr>\n",
       "    <tr>\n",
       "      <th>571</th>\n",
       "      <td>42.902092</td>\n",
       "      <td>150028</td>\n",
       "      <td>Masculino</td>\n",
       "      <td>75-79</td>\n",
       "      <td>75</td>\n",
       "      <td>soltero</td>\n",
       "      <td>5</td>\n",
       "      <td>ligera</td>\n",
       "      <td>trastornos_sueño</td>\n",
       "      <td>mind9-15</td>\n",
       "      <td>...</td>\n",
       "      <td>Europa</td>\n",
       "      <td>Español</td>\n",
       "      <td>Si</td>\n",
       "      <td>No</td>\n",
       "      <td>No</td>\n",
       "      <td>Ninguna</td>\n",
       "      <td>No</td>\n",
       "      <td>No</td>\n",
       "      <td>bajo</td>\n",
       "      <td>manual</td>\n",
       "    </tr>\n",
       "    <tr>\n",
       "      <th>572</th>\n",
       "      <td>38.648839</td>\n",
       "      <td>150035</td>\n",
       "      <td>Femenino</td>\n",
       "      <td>75-79</td>\n",
       "      <td>76</td>\n",
       "      <td>casado</td>\n",
       "      <td>3</td>\n",
       "      <td>ligera</td>\n",
       "      <td>baja</td>\n",
       "      <td>mind0-7</td>\n",
       "      <td>...</td>\n",
       "      <td>America del sur</td>\n",
       "      <td>Español</td>\n",
       "      <td>No</td>\n",
       "      <td>Si</td>\n",
       "      <td>Si</td>\n",
       "      <td>Ninguna</td>\n",
       "      <td>Si</td>\n",
       "      <td>Si</td>\n",
       "      <td>bajo</td>\n",
       "      <td>intelectual</td>\n",
       "    </tr>\n",
       "    <tr>\n",
       "      <th>573</th>\n",
       "      <td>0.123348</td>\n",
       "      <td>150046</td>\n",
       "      <td>Femenino</td>\n",
       "      <td>65-69</td>\n",
       "      <td>67</td>\n",
       "      <td>divorciado</td>\n",
       "      <td>5</td>\n",
       "      <td>moderada</td>\n",
       "      <td>baja</td>\n",
       "      <td>mind0-7</td>\n",
       "      <td>...</td>\n",
       "      <td>Europa</td>\n",
       "      <td>Rumano</td>\n",
       "      <td>No</td>\n",
       "      <td>Si</td>\n",
       "      <td>Si</td>\n",
       "      <td>Ninguna</td>\n",
       "      <td>No</td>\n",
       "      <td>Si</td>\n",
       "      <td>medio</td>\n",
       "      <td>intelectual</td>\n",
       "    </tr>\n",
       "    <tr>\n",
       "      <th>574</th>\n",
       "      <td>0.041724</td>\n",
       "      <td>150080</td>\n",
       "      <td>Masculino</td>\n",
       "      <td>75-79</td>\n",
       "      <td>75</td>\n",
       "      <td>viudo</td>\n",
       "      <td>0</td>\n",
       "      <td>intensa</td>\n",
       "      <td>trastornos_sueño</td>\n",
       "      <td>mind7-9</td>\n",
       "      <td>...</td>\n",
       "      <td>Europa</td>\n",
       "      <td>Español</td>\n",
       "      <td>Si</td>\n",
       "      <td>Si</td>\n",
       "      <td>No</td>\n",
       "      <td>Ninguna</td>\n",
       "      <td>Si</td>\n",
       "      <td>Si</td>\n",
       "      <td>alto</td>\n",
       "      <td>intelectual</td>\n",
       "    </tr>\n",
       "    <tr>\n",
       "      <th>575</th>\n",
       "      <td>0.053218</td>\n",
       "      <td>150041</td>\n",
       "      <td>Masculino</td>\n",
       "      <td>50-64</td>\n",
       "      <td>52</td>\n",
       "      <td>soltero</td>\n",
       "      <td>2</td>\n",
       "      <td>intensa</td>\n",
       "      <td>media</td>\n",
       "      <td>mind7-9</td>\n",
       "      <td>...</td>\n",
       "      <td>Europa</td>\n",
       "      <td>Rumano</td>\n",
       "      <td>No</td>\n",
       "      <td>Si</td>\n",
       "      <td>No</td>\n",
       "      <td>Ninguna</td>\n",
       "      <td>No</td>\n",
       "      <td>No</td>\n",
       "      <td>bajo</td>\n",
       "      <td>manual</td>\n",
       "    </tr>\n",
       "    <tr>\n",
       "      <th>576</th>\n",
       "      <td>0.064504</td>\n",
       "      <td>150096</td>\n",
       "      <td>Femenino</td>\n",
       "      <td>50-64</td>\n",
       "      <td>62</td>\n",
       "      <td>viudo</td>\n",
       "      <td>0</td>\n",
       "      <td>moderada</td>\n",
       "      <td>buena</td>\n",
       "      <td>mind0-7</td>\n",
       "      <td>...</td>\n",
       "      <td>America del sur</td>\n",
       "      <td>Español</td>\n",
       "      <td>No</td>\n",
       "      <td>No</td>\n",
       "      <td>No</td>\n",
       "      <td>Ninguna</td>\n",
       "      <td>No</td>\n",
       "      <td>No</td>\n",
       "      <td>bajo</td>\n",
       "      <td>manual</td>\n",
       "    </tr>\n",
       "    <tr>\n",
       "      <th>577</th>\n",
       "      <td>0.546390</td>\n",
       "      <td>150096</td>\n",
       "      <td>Masculino</td>\n",
       "      <td>80-84</td>\n",
       "      <td>81</td>\n",
       "      <td>soltero</td>\n",
       "      <td>3</td>\n",
       "      <td>moderada</td>\n",
       "      <td>media</td>\n",
       "      <td>mind0-7</td>\n",
       "      <td>...</td>\n",
       "      <td>Europa</td>\n",
       "      <td>Español</td>\n",
       "      <td>Si</td>\n",
       "      <td>Si</td>\n",
       "      <td>Si</td>\n",
       "      <td>Ninguna</td>\n",
       "      <td>No</td>\n",
       "      <td>No</td>\n",
       "      <td>medio</td>\n",
       "      <td>manual</td>\n",
       "    </tr>\n",
       "    <tr>\n",
       "      <th>578</th>\n",
       "      <td>2.767747</td>\n",
       "      <td>150066</td>\n",
       "      <td>Masculino</td>\n",
       "      <td>65-69</td>\n",
       "      <td>67</td>\n",
       "      <td>viudo</td>\n",
       "      <td>0</td>\n",
       "      <td>ligera</td>\n",
       "      <td>media</td>\n",
       "      <td>mind9-15</td>\n",
       "      <td>...</td>\n",
       "      <td>America del sur</td>\n",
       "      <td>Español</td>\n",
       "      <td>No</td>\n",
       "      <td>No</td>\n",
       "      <td>No</td>\n",
       "      <td>Ninguna</td>\n",
       "      <td>Si</td>\n",
       "      <td>No</td>\n",
       "      <td>bajo-medio</td>\n",
       "      <td>manual</td>\n",
       "    </tr>\n",
       "    <tr>\n",
       "      <th>579</th>\n",
       "      <td>1.620024</td>\n",
       "      <td>150056</td>\n",
       "      <td>Femenino</td>\n",
       "      <td>65-69</td>\n",
       "      <td>66</td>\n",
       "      <td>viudo</td>\n",
       "      <td>5</td>\n",
       "      <td>muy intensa</td>\n",
       "      <td>buena</td>\n",
       "      <td>mind9-15</td>\n",
       "      <td>...</td>\n",
       "      <td>Europa</td>\n",
       "      <td>Polaco</td>\n",
       "      <td>No</td>\n",
       "      <td>Si</td>\n",
       "      <td>No</td>\n",
       "      <td>Ninguna</td>\n",
       "      <td>Si</td>\n",
       "      <td>Si</td>\n",
       "      <td>alto-medio</td>\n",
       "      <td>investigacion</td>\n",
       "    </tr>\n",
       "  </tbody>\n",
       "</table>\n",
       "<p>20 rows × 44 columns</p>\n",
       "</div>"
      ],
      "text/plain": [
       "     Probabilidad de Alzheimer  id_sujeto     genero intervalo_edad  edad  \\\n",
       "560                  20.989631     150010  Masculino          65-69    68   \n",
       "561                  21.409181     150061  Masculino            >85    96   \n",
       "562                   0.070835     150056  Masculino            >85    99   \n",
       "563                   0.644887     150054  Masculino          70-74    70   \n",
       "564                  11.195392     150094  Masculino          75-79    77   \n",
       "565                  11.633617     150065   Femenino          70-74    72   \n",
       "566                   0.047689     150041   Femenino          65-69    68   \n",
       "567                   3.526575     150023   Femenino          65-69    67   \n",
       "568                   1.108776     150061   Femenino          50-64    55   \n",
       "569                  52.714791     150014   Femenino          80-84    83   \n",
       "570                  74.207944     150000   Femenino            >85    90   \n",
       "571                  42.902092     150028  Masculino          75-79    75   \n",
       "572                  38.648839     150035   Femenino          75-79    76   \n",
       "573                   0.123348     150046   Femenino          65-69    67   \n",
       "574                   0.041724     150080  Masculino          75-79    75   \n",
       "575                   0.053218     150041  Masculino          50-64    52   \n",
       "576                   0.064504     150096   Femenino          50-64    62   \n",
       "577                   0.546390     150096  Masculino          80-84    81   \n",
       "578                   2.767747     150066  Masculino          65-69    67   \n",
       "579                   1.620024     150056   Femenino          65-69    66   \n",
       "\n",
       "    estado_civil numero_descendientes actividad_fisica     calidad_sueño  \\\n",
       "560        viudo                    5         moderada             media   \n",
       "561      soltero                    2         moderada             buena   \n",
       "562        viudo                    3         moderada              baja   \n",
       "563      soltero                    0         moderada              baja   \n",
       "564   divorciado                    5           ligera             media   \n",
       "565   divorciado                    2           ligera              baja   \n",
       "566      soltero                    5          intensa             buena   \n",
       "567       casado                   >5           ligera             buena   \n",
       "568      soltero                    1       sedentaria              baja   \n",
       "569   divorciado                    0           ligera             buena   \n",
       "570   divorciado                    5           ligera              baja   \n",
       "571      soltero                    5           ligera  trastornos_sueño   \n",
       "572       casado                    3           ligera              baja   \n",
       "573   divorciado                    5         moderada              baja   \n",
       "574        viudo                    0          intensa  trastornos_sueño   \n",
       "575      soltero                    2          intensa             media   \n",
       "576        viudo                    0         moderada             buena   \n",
       "577      soltero                    3         moderada             media   \n",
       "578        viudo                    0           ligera             media   \n",
       "579        viudo                    5      muy intensa             buena   \n",
       "\n",
       "    calidad_dieta  ...       continente idioma_nativo vegetariano vegano  \\\n",
       "560      mind9-15  ...           Europa       Español          Si     No   \n",
       "561      mind9-15  ...             Asia         Chino          No     Si   \n",
       "562      mind9-15  ...             Asia       Japones          Si     No   \n",
       "563       mind0-7  ...  America del sur       Español          No     No   \n",
       "564       mind0-7  ...             Asia       Japones          Si     Si   \n",
       "565       mind0-7  ...           Europa        Rumano          Si     No   \n",
       "566      mind9-15  ...             Asia       Japones          Si     Si   \n",
       "567       mind0-7  ...             Asia       Japones          Si     Si   \n",
       "568       mind0-7  ...           Europa       Español          Si     Si   \n",
       "569       mind7-9  ...           Europa        Inglés          Si     No   \n",
       "570       mind7-9  ...           Europa        Rumano          Si     No   \n",
       "571      mind9-15  ...           Europa       Español          Si     No   \n",
       "572       mind0-7  ...  America del sur       Español          No     Si   \n",
       "573       mind0-7  ...           Europa        Rumano          No     Si   \n",
       "574       mind7-9  ...           Europa       Español          Si     Si   \n",
       "575       mind7-9  ...           Europa        Rumano          No     Si   \n",
       "576       mind0-7  ...  America del sur       Español          No     No   \n",
       "577       mind0-7  ...           Europa       Español          Si     Si   \n",
       "578      mind9-15  ...  America del sur       Español          No     No   \n",
       "579      mind9-15  ...           Europa        Polaco          No     Si   \n",
       "\n",
       "    lesiones_cabeza    tipo_adiccion sobrepeso obesidad nivel_educativo  \\\n",
       "560              Si          Ninguna        Si       Si      alto-medio   \n",
       "561              No          Ninguna        Si       Si            bajo   \n",
       "562              No          Ninguna        No       No           medio   \n",
       "563              Si          Ninguna        Si       No            alto   \n",
       "564              Si      Anfetaminas        No       Si           medio   \n",
       "565              No          Ninguna        Si       No      bajo-medio   \n",
       "566              Si          Ninguna        No       No            alto   \n",
       "567              Si  Benzodiacepinas        Si       Si      bajo-medio   \n",
       "568              Si          Ninguna        Si       Si            bajo   \n",
       "569              Si          Ninguna        No       No      alto-medio   \n",
       "570              Si          Ninguna        Si       Si           medio   \n",
       "571              No          Ninguna        No       No            bajo   \n",
       "572              Si          Ninguna        Si       Si            bajo   \n",
       "573              Si          Ninguna        No       Si           medio   \n",
       "574              No          Ninguna        Si       Si            alto   \n",
       "575              No          Ninguna        No       No            bajo   \n",
       "576              No          Ninguna        No       No            bajo   \n",
       "577              Si          Ninguna        No       No           medio   \n",
       "578              No          Ninguna        Si       No      bajo-medio   \n",
       "579              No          Ninguna        Si       Si      alto-medio   \n",
       "\n",
       "    empleo_realizado  \n",
       "560           manual  \n",
       "561         mecanico  \n",
       "562      intelectual  \n",
       "563      intelectual  \n",
       "564         mecanico  \n",
       "565           manual  \n",
       "566           manual  \n",
       "567      intelectual  \n",
       "568      intelectual  \n",
       "569         mecanico  \n",
       "570      intelectual  \n",
       "571           manual  \n",
       "572      intelectual  \n",
       "573      intelectual  \n",
       "574      intelectual  \n",
       "575           manual  \n",
       "576           manual  \n",
       "577           manual  \n",
       "578           manual  \n",
       "579    investigacion  \n",
       "\n",
       "[20 rows x 44 columns]"
      ]
     },
     "execution_count": 164,
     "metadata": {},
     "output_type": "execute_result"
    }
   ],
   "source": [
    "df_full"
   ]
  },
  {
   "cell_type": "markdown",
   "metadata": {},
   "source": [
    "Finalmente se obtendrá la probabilidad que tiene cada sujeto de desarrollar alzheimer junto con el identificador del paciente."
   ]
  }
 ],
 "metadata": {
  "kernelspec": {
   "display_name": "Python 3",
   "language": "python",
   "name": "python3"
  },
  "language_info": {
   "codemirror_mode": {
    "name": "ipython",
    "version": 3
   },
   "file_extension": ".py",
   "mimetype": "text/x-python",
   "name": "python",
   "nbconvert_exporter": "python",
   "pygments_lexer": "ipython3",
   "version": "3.7.3"
  }
 },
 "nbformat": 4,
 "nbformat_minor": 2
}
